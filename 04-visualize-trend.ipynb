{
 "cells": [
  {
   "cell_type": "markdown",
   "id": "d9c11339-a67f-4fb6-b67d-aba42870d87b",
   "metadata": {},
   "source": [
    "# CDC: Monkeypox visualizations"
   ]
  },
  {
   "cell_type": "markdown",
   "id": "888127c8-ef23-43e8-a541-4564873c783c",
   "metadata": {
    "tags": []
   },
   "source": [
    "#### Python tools"
   ]
  },
  {
   "cell_type": "code",
   "execution_count": 1,
   "id": "f026d5bb-f586-4824-87c4-b25a61afc493",
   "metadata": {},
   "outputs": [],
   "source": [
    "%load_ext lab_black"
   ]
  },
  {
   "cell_type": "code",
   "execution_count": 2,
   "id": "af3b67e9-66da-4494-8260-219a5002770a",
   "metadata": {},
   "outputs": [],
   "source": [
    "import pandas as pd\n",
    "import geopandas as gpd\n",
    "import altair as alt\n",
    "import altair_grid as altgrid\n",
    "from altair_saver import save"
   ]
  },
  {
   "cell_type": "code",
   "execution_count": 3,
   "id": "00b72956-77ad-4d12-ba14-13a3dcf86f75",
   "metadata": {},
   "outputs": [
    {
     "data": {
      "text/plain": [
       "ThemeRegistry.enable('grid')"
      ]
     },
     "execution_count": 3,
     "metadata": {},
     "output_type": "execute_result"
    }
   ],
   "source": [
    "alt.themes.register(\"grid\", altgrid.theme)\n",
    "alt.themes.enable(\"grid\")"
   ]
  },
  {
   "cell_type": "code",
   "execution_count": 4,
   "id": "1721a7f8-4f24-47fd-8d64-ad6ba9a8dd58",
   "metadata": {},
   "outputs": [
    {
     "data": {
      "text/plain": [
       "RendererRegistry.enable('altair_saver')"
      ]
     },
     "execution_count": 4,
     "metadata": {},
     "output_type": "execute_result"
    }
   ],
   "source": [
    "pd.options.display.max_columns = 1000\n",
    "pd.options.display.max_rows = 1000\n",
    "alt.data_transformers.disable_max_rows()\n",
    "alt.renderers.enable(\"altair_saver\", fmts=[\"vega-lite\", \"png\"])"
   ]
  },
  {
   "cell_type": "code",
   "execution_count": 5,
   "id": "c467e6bc-3038-4987-bf5c-cd975ce19857",
   "metadata": {},
   "outputs": [],
   "source": [
    "today = pd.Timestamp.now(tz=\"America/Los_Angeles\").strftime(\"%Y-%m-%d\")\n",
    "time = pd.Timestamp.now(tz=\"America/Los_Angeles\").strftime(\"%-I:%M %p\")"
   ]
  },
  {
   "cell_type": "markdown",
   "id": "55de2756-12bd-44d6-803c-959e42e25a14",
   "metadata": {},
   "source": [
    "---"
   ]
  },
  {
   "cell_type": "markdown",
   "id": "2fc67190-f2c7-43b5-b40e-f96a4b7a2f3c",
   "metadata": {},
   "source": [
    "## Cases timeseries"
   ]
  },
  {
   "cell_type": "code",
   "execution_count": 13,
   "id": "16266445-a3b9-4934-b2bb-984fdd75b4a2",
   "metadata": {},
   "outputs": [],
   "source": [
    "src = pd.read_csv(\n",
    "    \"https://raw.githubusercontent.com/gridviz/monkeypox/main/data/processed/monkeypox_cases_derived_timeseries_latest.csv\"\n",
    ")"
   ]
  },
  {
   "cell_type": "code",
   "execution_count": 14,
   "id": "466661b7-a686-4dd5-931b-0c520917d9ab",
   "metadata": {},
   "outputs": [
    {
     "data": {
      "text/html": [
       "<div>\n",
       "<style scoped>\n",
       "    .dataframe tbody tr th:only-of-type {\n",
       "        vertical-align: middle;\n",
       "    }\n",
       "\n",
       "    .dataframe tbody tr th {\n",
       "        vertical-align: top;\n",
       "    }\n",
       "\n",
       "    .dataframe thead th {\n",
       "        text-align: right;\n",
       "    }\n",
       "</style>\n",
       "<table border=\"1\" class=\"dataframe\">\n",
       "  <thead>\n",
       "    <tr style=\"text-align: right;\">\n",
       "      <th></th>\n",
       "      <th>date</th>\n",
       "      <th>cases</th>\n",
       "      <th>cumulative_sum</th>\n",
       "    </tr>\n",
       "  </thead>\n",
       "  <tbody>\n",
       "    <tr>\n",
       "      <th>0</th>\n",
       "      <td>2022-08-07</td>\n",
       "      <td>0</td>\n",
       "      <td>7507</td>\n",
       "    </tr>\n",
       "    <tr>\n",
       "      <th>1</th>\n",
       "      <td>2022-08-06</td>\n",
       "      <td>408</td>\n",
       "      <td>7507</td>\n",
       "    </tr>\n",
       "    <tr>\n",
       "      <th>2</th>\n",
       "      <td>2022-08-05</td>\n",
       "      <td>483</td>\n",
       "      <td>7099</td>\n",
       "    </tr>\n",
       "    <tr>\n",
       "      <th>3</th>\n",
       "      <td>2022-08-03</td>\n",
       "      <td>229</td>\n",
       "      <td>6616</td>\n",
       "    </tr>\n",
       "    <tr>\n",
       "      <th>4</th>\n",
       "      <td>2022-08-02</td>\n",
       "      <td>516</td>\n",
       "      <td>6387</td>\n",
       "    </tr>\n",
       "  </tbody>\n",
       "</table>\n",
       "</div>"
      ],
      "text/plain": [
       "         date  cases  cumulative_sum\n",
       "0  2022-08-07      0            7507\n",
       "1  2022-08-06    408            7507\n",
       "2  2022-08-05    483            7099\n",
       "3  2022-08-03    229            6616\n",
       "4  2022-08-02    516            6387"
      ]
     },
     "execution_count": 14,
     "metadata": {},
     "output_type": "execute_result"
    }
   ],
   "source": [
    "src.head()"
   ]
  },
  {
   "cell_type": "code",
   "execution_count": 35,
   "id": "8b414a69-c30e-4412-9aba-5ba37a38373e",
   "metadata": {},
   "outputs": [
    {
     "data": {
      "application/vnd.vegalite.v4+json": {
       "$schema": "https://vega.github.io/schema/vega-lite/v4.17.0.json",
       "config": {
        "arc": {
         "fill": "#00d4d8"
        },
        "area": {
         "fill": "#00d4d8"
        },
        "axis": {
         "labelFont": "Roboto, sans",
         "labelFontSize": 13,
         "labelFontWeight": "normal",
         "titleFont": "Roboto",
         "titleFontSize": 15,
         "titleFontWeight": "normal"
        },
        "axisX": {
         "grid": false,
         "labelAngle": 0,
         "labelPadding": 6,
         "tickSize": 3
        },
        "axisY": {
         "domainOpacity": 0,
         "gridColor": "#dddddd",
         "gridWidth": 0.6,
         "labelBaseline": "middle",
         "maxExtent": 45,
         "minExtent": 45,
         "offset": 6,
         "tickSize": 0,
         "titleAlign": "left",
         "titleAngle": 0,
         "titleColor": "#767676",
         "titleX": -45,
         "titleY": -11
        },
        "background": "#ffffff",
        "bar": {
         "fill": "#00d4d8"
        },
        "legend": {
         "labelFont": "Roboto, sans",
         "labelFontSize": 13,
         "orient": "top",
         "symbolType": "stroke",
         "titleFont": "Roboto",
         "titleFontSize": 15,
         "titleFontWeight": "normal"
        },
        "line": {
         "stroke": "#00d4d8",
         "strokeWidth": 3
        },
        "path": {
         "stroke": "#00d4d8"
        },
        "point": {
         "stroke": "#00d4d8"
        },
        "range": {
         "category": [
          "#005f66",
          "#e37e2d",
          "#d64a3b",
          "#76b0ef",
          "#c1bc40"
         ],
         "diverging": [
          "#e68a4f",
          "#f4bb6a",
          "#f9e39c",
          "#dadfe2",
          "#a6b7c6",
          "#849eae"
         ],
         "heatmap": [
          "#7ff6f6",
          "#00eeef",
          "#00d4d8",
          "#00abb2",
          "#00848b",
          "#fbf2c7",
          "#00363d"
         ],
         "ordinal": [
          "#7ff6f6",
          "#00eeef",
          "#00d4d8",
          "#00abb2",
          "#00848b",
          "#fbf2c7",
          "#00363d"
         ],
         "ramp": [
          "#7ff6f6",
          "#00eeef",
          "#00d4d8",
          "#00abb2",
          "#00848b",
          "#fbf2c7",
          "#00363d"
         ]
        },
        "rect": {
         "fill": "#00d4d8"
        },
        "shape": {
         "stroke": "#00d4d8"
        },
        "symbol": {
         "fill": "#00d4d8",
         "size": 30
        },
        "title": {
         "anchor": "start",
         "font": "Summit Sans",
         "fontColor": "palette[\"black\"]",
         "fontSize": 18,
         "fontWeight": "normal"
        },
        "view": {
         "height": 450,
         "strokeOpacity": 0,
         "width": 800
        }
       },
       "datasets": {
        "data-05b273b1b44fb92f4cab30c30d70dceb": [
         {
          "cases": 0,
          "cumulative_sum": 7507,
          "date": "2022-08-07"
         },
         {
          "cases": 408,
          "cumulative_sum": 7507,
          "date": "2022-08-06"
         },
         {
          "cases": 483,
          "cumulative_sum": 7099,
          "date": "2022-08-05"
         },
         {
          "cases": 229,
          "cumulative_sum": 6616,
          "date": "2022-08-03"
         },
         {
          "cases": 516,
          "cumulative_sum": 6387,
          "date": "2022-08-02"
         },
         {
          "cases": 562,
          "cumulative_sum": 5871,
          "date": "2022-08-01"
         },
         {
          "cases": 14,
          "cumulative_sum": 5309,
          "date": "2022-07-31"
         },
         {
          "cases": 16,
          "cumulative_sum": 5295,
          "date": "2022-07-30"
         },
         {
          "cases": 435,
          "cumulative_sum": 5279,
          "date": "2022-07-29"
         },
         {
          "cases": 184,
          "cumulative_sum": 4844,
          "date": "2022-07-28"
         },
         {
          "cases": 476,
          "cumulative_sum": 4660,
          "date": "2022-07-27"
         },
         {
          "cases": 586,
          "cumulative_sum": 4184,
          "date": "2022-07-26"
         },
         {
          "cases": 812,
          "cumulative_sum": 3598,
          "date": "2022-07-25"
         },
         {
          "cases": 6,
          "cumulative_sum": 2786,
          "date": "2022-07-24"
         },
         {
          "cases": 13,
          "cumulative_sum": 2780,
          "date": "2022-07-23"
         },
         {
          "cases": 322,
          "cumulative_sum": 2767,
          "date": "2022-07-22"
         },
         {
          "cases": 183,
          "cumulative_sum": 2445,
          "date": "2022-07-21"
         },
         {
          "cases": 255,
          "cumulative_sum": 2262,
          "date": "2022-07-20"
         },
         {
          "cases": 292,
          "cumulative_sum": 2007,
          "date": "2022-07-19"
         },
         {
          "cases": 168,
          "cumulative_sum": 1715,
          "date": "2022-07-18"
         },
         {
          "cases": 1,
          "cumulative_sum": 1547,
          "date": "2022-07-17"
         },
         {
          "cases": 7,
          "cumulative_sum": 1546,
          "date": "2022-07-16"
         },
         {
          "cases": 152,
          "cumulative_sum": 1539,
          "date": "2022-07-15"
         },
         {
          "cases": 209,
          "cumulative_sum": 1387,
          "date": "2022-07-14"
         },
         {
          "cases": 141,
          "cumulative_sum": 1178,
          "date": "2022-07-13"
         },
         {
          "cases": 157,
          "cumulative_sum": 1037,
          "date": "2022-07-12"
         },
         {
          "cases": 95,
          "cumulative_sum": 880,
          "date": "2022-07-11"
         },
         {
          "cases": 7,
          "cumulative_sum": 785,
          "date": "2022-07-10"
         },
         {
          "cases": 41,
          "cumulative_sum": 778,
          "date": "2022-07-09"
         },
         {
          "cases": 36,
          "cumulative_sum": 737,
          "date": "2022-07-08"
         },
         {
          "cases": 53,
          "cumulative_sum": 701,
          "date": "2022-07-07"
         },
         {
          "cases": 46,
          "cumulative_sum": 648,
          "date": "2022-07-06"
         },
         {
          "cases": 36,
          "cumulative_sum": 602,
          "date": "2022-07-05"
         },
         {
          "cases": 24,
          "cumulative_sum": 566,
          "date": "2022-07-04"
         },
         {
          "cases": 8,
          "cumulative_sum": 542,
          "date": "2022-07-03"
         },
         {
          "cases": 15,
          "cumulative_sum": 534,
          "date": "2022-07-02"
         },
         {
          "cases": 54,
          "cumulative_sum": 519,
          "date": "2022-07-01"
         },
         {
          "cases": 57,
          "cumulative_sum": 465,
          "date": "2022-06-30"
         },
         {
          "cases": 42,
          "cumulative_sum": 408,
          "date": "2022-06-29"
         },
         {
          "cases": 40,
          "cumulative_sum": 366,
          "date": "2022-06-28"
         },
         {
          "cases": 60,
          "cumulative_sum": 326,
          "date": "2022-06-27"
         },
         {
          "cases": 9,
          "cumulative_sum": 266,
          "date": "2022-06-26"
         },
         {
          "cases": 12,
          "cumulative_sum": 257,
          "date": "2022-06-25"
         },
         {
          "cases": 48,
          "cumulative_sum": 245,
          "date": "2022-06-24"
         },
         {
          "cases": 20,
          "cumulative_sum": 197,
          "date": "2022-06-23"
         },
         {
          "cases": 20,
          "cumulative_sum": 177,
          "date": "2022-06-22"
         },
         {
          "cases": 14,
          "cumulative_sum": 157,
          "date": "2022-06-21"
         },
         {
          "cases": 11,
          "cumulative_sum": 143,
          "date": "2022-06-20"
         },
         {
          "cases": 4,
          "cumulative_sum": 132,
          "date": "2022-06-19"
         },
         {
          "cases": 9,
          "cumulative_sum": 128,
          "date": "2022-06-18"
         },
         {
          "cases": 8,
          "cumulative_sum": 119,
          "date": "2022-06-17"
         },
         {
          "cases": 17,
          "cumulative_sum": 111,
          "date": "2022-06-16"
         },
         {
          "cases": 10,
          "cumulative_sum": 94,
          "date": "2022-06-15"
         },
         {
          "cases": 15,
          "cumulative_sum": 84,
          "date": "2022-06-14"
         },
         {
          "cases": 3,
          "cumulative_sum": 69,
          "date": "2022-06-13"
         },
         {
          "cases": 5,
          "cumulative_sum": 66,
          "date": "2022-06-12"
         },
         {
          "cases": 2,
          "cumulative_sum": 61,
          "date": "2022-06-11"
         },
         {
          "cases": 4,
          "cumulative_sum": 59,
          "date": "2022-06-10"
         },
         {
          "cases": 7,
          "cumulative_sum": 55,
          "date": "2022-06-09"
         },
         {
          "cases": 6,
          "cumulative_sum": 48,
          "date": "2022-06-08"
         },
         {
          "cases": 4,
          "cumulative_sum": 42,
          "date": "2022-06-07"
         },
         {
          "cases": 5,
          "cumulative_sum": 38,
          "date": "2022-06-06"
         },
         {
          "cases": 0,
          "cumulative_sum": 33,
          "date": "2022-06-05"
         },
         {
          "cases": 2,
          "cumulative_sum": 33,
          "date": "2022-06-04"
         },
         {
          "cases": 6,
          "cumulative_sum": 31,
          "date": "2022-06-03"
         },
         {
          "cases": 3,
          "cumulative_sum": 25,
          "date": "2022-06-02"
         },
         {
          "cases": 1,
          "cumulative_sum": 22,
          "date": "2022-06-01"
         },
         {
          "cases": 3,
          "cumulative_sum": 21,
          "date": "2022-05-31"
         },
         {
          "cases": 0,
          "cumulative_sum": 18,
          "date": "2022-05-30"
         },
         {
          "cases": 1,
          "cumulative_sum": 18,
          "date": "2022-05-29"
         },
         {
          "cases": 0,
          "cumulative_sum": 17,
          "date": "2022-05-28"
         },
         {
          "cases": 3,
          "cumulative_sum": 17,
          "date": "2022-05-27"
         },
         {
          "cases": 2,
          "cumulative_sum": 14,
          "date": "2022-05-26"
         },
         {
          "cases": 2,
          "cumulative_sum": 12,
          "date": "2022-05-25"
         },
         {
          "cases": 1,
          "cumulative_sum": 10,
          "date": "2022-05-24"
         },
         {
          "cases": 4,
          "cumulative_sum": 9,
          "date": "2022-05-23"
         },
         {
          "cases": 1,
          "cumulative_sum": 5,
          "date": "2022-05-22"
         },
         {
          "cases": 2,
          "cumulative_sum": 4,
          "date": "2022-05-21"
         },
         {
          "cases": 1,
          "cumulative_sum": 2,
          "date": "2022-05-20"
         },
         {
          "cases": 0,
          "cumulative_sum": 1,
          "date": "2022-05-19"
         },
         {
          "cases": 0,
          "cumulative_sum": 1,
          "date": "2022-05-18"
         },
         {
          "cases": 1,
          "cumulative_sum": 1,
          "date": "2022-05-17"
         }
        ],
        "data-7be9086fe9f38c47805a56e950a09803": [
         {
          "cases": 0,
          "cumulative_sum": 7507,
          "date": "2022-08-07"
         }
        ],
        "data-ffc3c7f034ca2dd087a46b98eaab5cd4": [
         {
          "cases": 408,
          "cumulative_sum": 7507,
          "date": "2022-08-06"
         }
        ]
       },
       "layer": [
        {
         "data": {
          "name": "data-05b273b1b44fb92f4cab30c30d70dceb"
         },
         "encoding": {
          "x": {
           "axis": {
            "tickCount": 5
           },
           "field": "date",
           "title": "",
           "type": "temporal"
          },
          "y": {
           "axis": {
            "tickCount": 5
           },
           "field": "cumulative_sum",
           "title": " ",
           "type": "quantitative"
          }
         },
         "height": 300,
         "mark": "line",
         "title": "Cumulative monkeypox cases in the U.S.",
         "width": 650
        },
        {
         "data": {
          "name": "data-ffc3c7f034ca2dd087a46b98eaab5cd4"
         },
         "encoding": {
          "text": {
           "field": "cumulative_sum",
           "type": "quantitative"
          },
          "x": {
           "field": "date",
           "type": "temporal"
          },
          "y": {
           "field": "cumulative_sum",
           "type": "quantitative"
          }
         },
         "mark": {
          "dx": 10,
          "dy": -10,
          "type": "text"
         }
        },
        {
         "data": {
          "name": "data-7be9086fe9f38c47805a56e950a09803"
         },
         "encoding": {
          "x": {
           "field": "date",
           "type": "temporal"
          },
          "y": {
           "field": "cumulative_sum",
           "type": "quantitative"
          }
         },
         "mark": "circle"
        }
       ]
      },
      "image/png": "[encoded data removed]",
      "text/plain": [
       "alt.LayerChart(...)"
      ]
     },
     "execution_count": 35,
     "metadata": {},
     "output_type": "execute_result"
    }
   ],
   "source": [
    "line = (\n",
    "    alt.Chart(src)\n",
    "    .mark_line()\n",
    "    .encode(\n",
    "        x=alt.X(\"date:T\", axis=alt.Axis(tickCount=5), title=\"\"),\n",
    "        y=alt.Y(\"cumulative_sum:Q\", title=\" \", axis=alt.Axis(tickCount=5)),\n",
    "    )\n",
    "    .properties(title=\"Cumulative monkeypox cases in the U.S.\", width=650, height=300)\n",
    ")\n",
    "\n",
    "text = (\n",
    "    alt.Chart(src.query(\"(cumulative_sum == cumulative_sum.max()) & (cases > 0)\"))\n",
    "    .mark_text(dy=-10, dx=10)\n",
    "    .encode(\n",
    "        x=alt.X(\"date:T\"),\n",
    "        y=alt.Y(\"cumulative_sum:Q\"),\n",
    "        text=alt.Text(\"cumulative_sum:Q\"),\n",
    "    )\n",
    ")\n",
    "\n",
    "circle = (\n",
    "    alt.Chart(src.query(\"(date == date.max())\"))\n",
    "    .mark_circle()\n",
    "    .encode(\n",
    "        x=alt.X(\"date:T\"),\n",
    "        y=alt.Y(\"cumulative_sum:Q\"),\n",
    "    )\n",
    ")\n",
    "\n",
    "(line + text + circle).configure_legend(symbolType=\"stroke\", orient=\"top\")"
   ]
  },
  {
   "cell_type": "code",
   "execution_count": 16,
   "id": "14a6e3c3-3274-4f09-bdf9-22fe4658bd87",
   "metadata": {},
   "outputs": [],
   "source": [
    "line.save(\"visuals/trendline.png\")"
   ]
  },
  {
   "cell_type": "code",
   "execution_count": null,
   "id": "8e6483b2-ccaf-49b6-bae6-e5d0fbc5cf79",
   "metadata": {},
   "outputs": [],
   "source": []
  }
 ],
 "metadata": {
  "kernelspec": {
   "display_name": "Python 3 (ipykernel)",
   "language": "python",
   "name": "python3"
  },
  "language_info": {
   "codemirror_mode": {
    "name": "ipython",
    "version": 3
   },
   "file_extension": ".py",
   "mimetype": "text/x-python",
   "name": "python",
   "nbconvert_exporter": "python",
   "pygments_lexer": "ipython3",
   "version": "3.8.9"
  }
 },
 "nbformat": 4,
 "nbformat_minor": 5
}
