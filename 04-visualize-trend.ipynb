{
 "cells": [
  {
   "cell_type": "markdown",
   "id": "d9c11339-a67f-4fb6-b67d-aba42870d87b",
   "metadata": {},
   "source": [
    "# CDC: Monkeypox derived timeseries"
   ]
  },
  {
   "cell_type": "markdown",
   "id": "888127c8-ef23-43e8-a541-4564873c783c",
   "metadata": {},
   "source": [
    "#### Python tools"
   ]
  },
  {
   "cell_type": "code",
   "execution_count": 4,
   "id": "f026d5bb-f586-4824-87c4-b25a61afc493",
   "metadata": {},
   "outputs": [],
   "source": [
    "%load_ext lab_black"
   ]
  },
  {
   "cell_type": "code",
   "execution_count": 5,
   "id": "af3b67e9-66da-4494-8260-219a5002770a",
   "metadata": {},
   "outputs": [],
   "source": [
    "import pandas as pd\n",
    "import geopandas as gpd\n",
    "import altair as alt\n",
    "import altair_grid as altgrid"
   ]
  },
  {
   "cell_type": "code",
   "execution_count": 6,
   "id": "00b72956-77ad-4d12-ba14-13a3dcf86f75",
   "metadata": {},
   "outputs": [
    {
     "data": {
      "text/plain": [
       "ThemeRegistry.enable('grid')"
      ]
     },
     "execution_count": 6,
     "metadata": {},
     "output_type": "execute_result"
    }
   ],
   "source": [
    "alt.themes.register(\"grid\", altgrid.theme)\n",
    "alt.themes.enable(\"grid\")"
   ]
  },
  {
   "cell_type": "code",
   "execution_count": 7,
   "id": "1721a7f8-4f24-47fd-8d64-ad6ba9a8dd58",
   "metadata": {},
   "outputs": [
    {
     "data": {
      "text/plain": [
       "DataTransformerRegistry.enable('default')"
      ]
     },
     "execution_count": 7,
     "metadata": {},
     "output_type": "execute_result"
    }
   ],
   "source": [
    "pd.options.display.max_columns = 1000\n",
    "pd.options.display.max_rows = 1000\n",
    "alt.data_transformers.disable_max_rows()"
   ]
  },
  {
   "cell_type": "code",
   "execution_count": 8,
   "id": "c467e6bc-3038-4987-bf5c-cd975ce19857",
   "metadata": {},
   "outputs": [],
   "source": [
    "today = pd.Timestamp.now(tz=\"America/Los_Angeles\").strftime(\"%Y-%m-%d\")\n",
    "time = pd.Timestamp.now(tz=\"America/Los_Angeles\").strftime(\"%-I:%M %p\")"
   ]
  },
  {
   "cell_type": "markdown",
   "id": "55de2756-12bd-44d6-803c-959e42e25a14",
   "metadata": {},
   "source": [
    "---"
   ]
  },
  {
   "cell_type": "markdown",
   "id": "2fc67190-f2c7-43b5-b40e-f96a4b7a2f3c",
   "metadata": {},
   "source": [
    "## Cases timeseries"
   ]
  },
  {
   "cell_type": "code",
   "execution_count": 11,
   "id": "16266445-a3b9-4934-b2bb-984fdd75b4a2",
   "metadata": {},
   "outputs": [],
   "source": [
    "src = pd.read_csv(\n",
    "    \"https://raw.githubusercontent.com/gridviz/monkeypox/main/data/processed/monkeypox_cases_derived_timeseries_latest.csv\"\n",
    ")"
   ]
  },
  {
   "cell_type": "code",
   "execution_count": 13,
   "id": "466661b7-a686-4dd5-931b-0c520917d9ab",
   "metadata": {},
   "outputs": [
    {
     "data": {
      "text/html": [
       "<div>\n",
       "<style scoped>\n",
       "    .dataframe tbody tr th:only-of-type {\n",
       "        vertical-align: middle;\n",
       "    }\n",
       "\n",
       "    .dataframe tbody tr th {\n",
       "        vertical-align: top;\n",
       "    }\n",
       "\n",
       "    .dataframe thead th {\n",
       "        text-align: right;\n",
       "    }\n",
       "</style>\n",
       "<table border=\"1\" class=\"dataframe\">\n",
       "  <thead>\n",
       "    <tr style=\"text-align: right;\">\n",
       "      <th></th>\n",
       "      <th>date</th>\n",
       "      <th>cases</th>\n",
       "      <th>cumulative_sum</th>\n",
       "    </tr>\n",
       "  </thead>\n",
       "  <tbody>\n",
       "    <tr>\n",
       "      <th>0</th>\n",
       "      <td>2022-08-06</td>\n",
       "      <td>408</td>\n",
       "      <td>7507</td>\n",
       "    </tr>\n",
       "    <tr>\n",
       "      <th>1</th>\n",
       "      <td>2022-08-05</td>\n",
       "      <td>483</td>\n",
       "      <td>7099</td>\n",
       "    </tr>\n",
       "    <tr>\n",
       "      <th>2</th>\n",
       "      <td>2022-08-03</td>\n",
       "      <td>229</td>\n",
       "      <td>6616</td>\n",
       "    </tr>\n",
       "    <tr>\n",
       "      <th>3</th>\n",
       "      <td>2022-08-02</td>\n",
       "      <td>516</td>\n",
       "      <td>6387</td>\n",
       "    </tr>\n",
       "    <tr>\n",
       "      <th>4</th>\n",
       "      <td>2022-08-01</td>\n",
       "      <td>562</td>\n",
       "      <td>5871</td>\n",
       "    </tr>\n",
       "  </tbody>\n",
       "</table>\n",
       "</div>"
      ],
      "text/plain": [
       "         date  cases  cumulative_sum\n",
       "0  2022-08-06    408            7507\n",
       "1  2022-08-05    483            7099\n",
       "2  2022-08-03    229            6616\n",
       "3  2022-08-02    516            6387\n",
       "4  2022-08-01    562            5871"
      ]
     },
     "execution_count": 13,
     "metadata": {},
     "output_type": "execute_result"
    }
   ],
   "source": [
    "src.head()"
   ]
  },
  {
   "cell_type": "code",
   "execution_count": 19,
   "id": "8b414a69-c30e-4412-9aba-5ba37a38373e",
   "metadata": {},
   "outputs": [
    {
     "data": {
      "text/html": [
       "\n",
       "<div id=\"altair-viz-f7d8e5f0d60845599316899c342d3a0a\"></div>\n",
       "<script type=\"text/javascript\">\n",
       "  var VEGA_DEBUG = (typeof VEGA_DEBUG == \"undefined\") ? {} : VEGA_DEBUG;\n",
       "  (function(spec, embedOpt){\n",
       "    let outputDiv = document.currentScript.previousElementSibling;\n",
       "    if (outputDiv.id !== \"altair-viz-f7d8e5f0d60845599316899c342d3a0a\") {\n",
       "      outputDiv = document.getElementById(\"altair-viz-f7d8e5f0d60845599316899c342d3a0a\");\n",
       "    }\n",
       "    const paths = {\n",
       "      \"vega\": \"https://cdn.jsdelivr.net/npm//vega@5?noext\",\n",
       "      \"vega-lib\": \"https://cdn.jsdelivr.net/npm//vega-lib?noext\",\n",
       "      \"vega-lite\": \"https://cdn.jsdelivr.net/npm//vega-lite@4.17.0?noext\",\n",
       "      \"vega-embed\": \"https://cdn.jsdelivr.net/npm//vega-embed@6?noext\",\n",
       "    };\n",
       "\n",
       "    function maybeLoadScript(lib, version) {\n",
       "      var key = `${lib.replace(\"-\", \"\")}_version`;\n",
       "      return (VEGA_DEBUG[key] == version) ?\n",
       "        Promise.resolve(paths[lib]) :\n",
       "        new Promise(function(resolve, reject) {\n",
       "          var s = document.createElement('script');\n",
       "          document.getElementsByTagName(\"head\")[0].appendChild(s);\n",
       "          s.async = true;\n",
       "          s.onload = () => {\n",
       "            VEGA_DEBUG[key] = version;\n",
       "            return resolve(paths[lib]);\n",
       "          };\n",
       "          s.onerror = () => reject(`Error loading script: ${paths[lib]}`);\n",
       "          s.src = paths[lib];\n",
       "        });\n",
       "    }\n",
       "\n",
       "    function showError(err) {\n",
       "      outputDiv.innerHTML = `<div class=\"error\" style=\"color:red;\">${err}</div>`;\n",
       "      throw err;\n",
       "    }\n",
       "\n",
       "    function displayChart(vegaEmbed) {\n",
       "      vegaEmbed(outputDiv, spec, embedOpt)\n",
       "        .catch(err => showError(`Javascript Error: ${err.message}<br>This usually means there's a typo in your chart specification. See the javascript console for the full traceback.`));\n",
       "    }\n",
       "\n",
       "    if(typeof define === \"function\" && define.amd) {\n",
       "      requirejs.config({paths});\n",
       "      require([\"vega-embed\"], displayChart, err => showError(`Error loading script: ${err.message}`));\n",
       "    } else {\n",
       "      maybeLoadScript(\"vega\", \"5\")\n",
       "        .then(() => maybeLoadScript(\"vega-lite\", \"4.17.0\"))\n",
       "        .then(() => maybeLoadScript(\"vega-embed\", \"6\"))\n",
       "        .catch(showError)\n",
       "        .then(() => displayChart(vegaEmbed));\n",
       "    }\n",
       "  })({\"config\": {\"view\": {\"width\": 800, \"height\": 450, \"strokeOpacity\": 0}, \"background\": \"#ffffff\", \"title\": {\"anchor\": \"start\", \"font\": \"Summit Sans\", \"fontColor\": \"palette[\\\"black\\\"]\", \"fontSize\": 18, \"fontWeight\": \"normal\"}, \"arc\": {\"fill\": \"#00d4d8\"}, \"area\": {\"fill\": \"#00d4d8\"}, \"line\": {\"stroke\": \"#00d4d8\", \"strokeWidth\": 3}, \"path\": {\"stroke\": \"#00d4d8\"}, \"rect\": {\"fill\": \"#00d4d8\"}, \"shape\": {\"stroke\": \"#00d4d8\"}, \"bar\": {\"fill\": \"#00d4d8\"}, \"point\": {\"stroke\": \"#00d4d8\"}, \"symbol\": {\"fill\": \"#00d4d8\", \"size\": 30}, \"axis\": {\"titleFont\": \"Roboto\", \"titleFontSize\": 15, \"titleFontWeight\": \"normal\", \"labelFont\": \"Roboto, sans\", \"labelFontSize\": 13, \"labelFontWeight\": \"normal\"}, \"axisX\": {\"labelAngle\": 0, \"labelPadding\": 6, \"tickSize\": 3, \"grid\": false}, \"axisY\": {\"labelBaseline\": \"middle\", \"maxExtent\": 45, \"minExtent\": 45, \"titleAlign\": \"left\", \"titleAngle\": 0, \"titleX\": -45, \"titleY\": -11, \"domainOpacity\": 0, \"gridWidth\": 0.6, \"gridColor\": \"#dddddd\", \"offset\": 6, \"tickSize\": 0, \"titleColor\": \"#767676\"}, \"legend\": {\"titleFont\": \"Roboto\", \"titleFontSize\": 15, \"titleFontWeight\": \"normal\", \"symbolType\": \"stroke\", \"labelFont\": \"Roboto, sans\", \"labelFontSize\": 13, \"orient\": \"top\"}, \"range\": {\"category\": [\"#005f66\", \"#e37e2d\", \"#d64a3b\", \"#76b0ef\", \"#c1bc40\"], \"diverging\": [\"#e68a4f\", \"#f4bb6a\", \"#f9e39c\", \"#dadfe2\", \"#a6b7c6\", \"#849eae\"], \"heatmap\": [\"#7ff6f6\", \"#00eeef\", \"#00d4d8\", \"#00abb2\", \"#00848b\", \"#fbf2c7\", \"#00363d\"], \"ordinal\": [\"#7ff6f6\", \"#00eeef\", \"#00d4d8\", \"#00abb2\", \"#00848b\", \"#fbf2c7\", \"#00363d\"], \"ramp\": [\"#7ff6f6\", \"#00eeef\", \"#00d4d8\", \"#00abb2\", \"#00848b\", \"#fbf2c7\", \"#00363d\"]}}, \"data\": {\"name\": \"data-d78cf8450befbc5a2dccdcb63ebb7895\"}, \"mark\": \"line\", \"encoding\": {\"x\": {\"axis\": {\"tickCount\": 5}, \"field\": \"date\", \"title\": \"\", \"type\": \"temporal\"}, \"y\": {\"axis\": {\"tickCount\": 5}, \"field\": \"cumulative_sum\", \"title\": \" \", \"type\": \"quantitative\"}}, \"height\": 400, \"title\": \"Cumulative monkeypox cases in the U.S.\", \"width\": 650, \"$schema\": \"https://vega.github.io/schema/vega-lite/v4.17.0.json\", \"datasets\": {\"data-d78cf8450befbc5a2dccdcb63ebb7895\": [{\"date\": \"2022-08-06\", \"cases\": 408, \"cumulative_sum\": 7507}, {\"date\": \"2022-08-05\", \"cases\": 483, \"cumulative_sum\": 7099}, {\"date\": \"2022-08-03\", \"cases\": 229, \"cumulative_sum\": 6616}, {\"date\": \"2022-08-02\", \"cases\": 516, \"cumulative_sum\": 6387}, {\"date\": \"2022-08-01\", \"cases\": 562, \"cumulative_sum\": 5871}, {\"date\": \"2022-07-31\", \"cases\": 14, \"cumulative_sum\": 5309}, {\"date\": \"2022-07-30\", \"cases\": 16, \"cumulative_sum\": 5295}, {\"date\": \"2022-07-29\", \"cases\": 435, \"cumulative_sum\": 5279}, {\"date\": \"2022-07-28\", \"cases\": 184, \"cumulative_sum\": 4844}, {\"date\": \"2022-07-27\", \"cases\": 476, \"cumulative_sum\": 4660}, {\"date\": \"2022-07-26\", \"cases\": 586, \"cumulative_sum\": 4184}, {\"date\": \"2022-07-25\", \"cases\": 812, \"cumulative_sum\": 3598}, {\"date\": \"2022-07-24\", \"cases\": 6, \"cumulative_sum\": 2786}, {\"date\": \"2022-07-23\", \"cases\": 13, \"cumulative_sum\": 2780}, {\"date\": \"2022-07-22\", \"cases\": 322, \"cumulative_sum\": 2767}, {\"date\": \"2022-07-21\", \"cases\": 183, \"cumulative_sum\": 2445}, {\"date\": \"2022-07-20\", \"cases\": 255, \"cumulative_sum\": 2262}, {\"date\": \"2022-07-19\", \"cases\": 292, \"cumulative_sum\": 2007}, {\"date\": \"2022-07-18\", \"cases\": 168, \"cumulative_sum\": 1715}, {\"date\": \"2022-07-17\", \"cases\": 1, \"cumulative_sum\": 1547}, {\"date\": \"2022-07-16\", \"cases\": 7, \"cumulative_sum\": 1546}, {\"date\": \"2022-07-15\", \"cases\": 152, \"cumulative_sum\": 1539}, {\"date\": \"2022-07-14\", \"cases\": 209, \"cumulative_sum\": 1387}, {\"date\": \"2022-07-13\", \"cases\": 141, \"cumulative_sum\": 1178}, {\"date\": \"2022-07-12\", \"cases\": 157, \"cumulative_sum\": 1037}, {\"date\": \"2022-07-11\", \"cases\": 95, \"cumulative_sum\": 880}, {\"date\": \"2022-07-10\", \"cases\": 7, \"cumulative_sum\": 785}, {\"date\": \"2022-07-09\", \"cases\": 41, \"cumulative_sum\": 778}, {\"date\": \"2022-07-08\", \"cases\": 36, \"cumulative_sum\": 737}, {\"date\": \"2022-07-07\", \"cases\": 53, \"cumulative_sum\": 701}, {\"date\": \"2022-07-06\", \"cases\": 46, \"cumulative_sum\": 648}, {\"date\": \"2022-07-05\", \"cases\": 36, \"cumulative_sum\": 602}, {\"date\": \"2022-07-04\", \"cases\": 24, \"cumulative_sum\": 566}, {\"date\": \"2022-07-03\", \"cases\": 8, \"cumulative_sum\": 542}, {\"date\": \"2022-07-02\", \"cases\": 15, \"cumulative_sum\": 534}, {\"date\": \"2022-07-01\", \"cases\": 54, \"cumulative_sum\": 519}, {\"date\": \"2022-06-30\", \"cases\": 57, \"cumulative_sum\": 465}, {\"date\": \"2022-06-29\", \"cases\": 42, \"cumulative_sum\": 408}, {\"date\": \"2022-06-28\", \"cases\": 40, \"cumulative_sum\": 366}, {\"date\": \"2022-06-27\", \"cases\": 60, \"cumulative_sum\": 326}, {\"date\": \"2022-06-26\", \"cases\": 9, \"cumulative_sum\": 266}, {\"date\": \"2022-06-25\", \"cases\": 12, \"cumulative_sum\": 257}, {\"date\": \"2022-06-24\", \"cases\": 48, \"cumulative_sum\": 245}, {\"date\": \"2022-06-23\", \"cases\": 20, \"cumulative_sum\": 197}, {\"date\": \"2022-06-22\", \"cases\": 20, \"cumulative_sum\": 177}, {\"date\": \"2022-06-21\", \"cases\": 14, \"cumulative_sum\": 157}, {\"date\": \"2022-06-20\", \"cases\": 11, \"cumulative_sum\": 143}, {\"date\": \"2022-06-19\", \"cases\": 4, \"cumulative_sum\": 132}, {\"date\": \"2022-06-18\", \"cases\": 9, \"cumulative_sum\": 128}, {\"date\": \"2022-06-17\", \"cases\": 8, \"cumulative_sum\": 119}, {\"date\": \"2022-06-16\", \"cases\": 17, \"cumulative_sum\": 111}, {\"date\": \"2022-06-15\", \"cases\": 10, \"cumulative_sum\": 94}, {\"date\": \"2022-06-14\", \"cases\": 15, \"cumulative_sum\": 84}, {\"date\": \"2022-06-13\", \"cases\": 3, \"cumulative_sum\": 69}, {\"date\": \"2022-06-12\", \"cases\": 5, \"cumulative_sum\": 66}, {\"date\": \"2022-06-11\", \"cases\": 2, \"cumulative_sum\": 61}, {\"date\": \"2022-06-10\", \"cases\": 4, \"cumulative_sum\": 59}, {\"date\": \"2022-06-09\", \"cases\": 7, \"cumulative_sum\": 55}, {\"date\": \"2022-06-08\", \"cases\": 6, \"cumulative_sum\": 48}, {\"date\": \"2022-06-07\", \"cases\": 4, \"cumulative_sum\": 42}, {\"date\": \"2022-06-06\", \"cases\": 5, \"cumulative_sum\": 38}, {\"date\": \"2022-06-05\", \"cases\": 0, \"cumulative_sum\": 33}, {\"date\": \"2022-06-04\", \"cases\": 2, \"cumulative_sum\": 33}, {\"date\": \"2022-06-03\", \"cases\": 6, \"cumulative_sum\": 31}, {\"date\": \"2022-06-02\", \"cases\": 3, \"cumulative_sum\": 25}, {\"date\": \"2022-06-01\", \"cases\": 1, \"cumulative_sum\": 22}, {\"date\": \"2022-05-31\", \"cases\": 3, \"cumulative_sum\": 21}, {\"date\": \"2022-05-30\", \"cases\": 0, \"cumulative_sum\": 18}, {\"date\": \"2022-05-29\", \"cases\": 1, \"cumulative_sum\": 18}, {\"date\": \"2022-05-28\", \"cases\": 0, \"cumulative_sum\": 17}, {\"date\": \"2022-05-27\", \"cases\": 3, \"cumulative_sum\": 17}, {\"date\": \"2022-05-26\", \"cases\": 2, \"cumulative_sum\": 14}, {\"date\": \"2022-05-25\", \"cases\": 2, \"cumulative_sum\": 12}, {\"date\": \"2022-05-24\", \"cases\": 1, \"cumulative_sum\": 10}, {\"date\": \"2022-05-23\", \"cases\": 4, \"cumulative_sum\": 9}, {\"date\": \"2022-05-22\", \"cases\": 1, \"cumulative_sum\": 5}, {\"date\": \"2022-05-21\", \"cases\": 2, \"cumulative_sum\": 4}, {\"date\": \"2022-05-20\", \"cases\": 1, \"cumulative_sum\": 2}, {\"date\": \"2022-05-19\", \"cases\": 0, \"cumulative_sum\": 1}, {\"date\": \"2022-05-18\", \"cases\": 0, \"cumulative_sum\": 1}, {\"date\": \"2022-05-17\", \"cases\": 1, \"cumulative_sum\": 1}]}}, {\"mode\": \"vega-lite\"});\n",
       "</script>"
      ],
      "text/plain": [
       "alt.Chart(...)"
      ]
     },
     "execution_count": 19,
     "metadata": {},
     "output_type": "execute_result"
    }
   ],
   "source": [
    "alt.Chart(src).mark_line().encode(\n",
    "    x=alt.X(\"date:T\", axis=alt.Axis(tickCount=5), title=\"\"),\n",
    "    y=alt.Y(\"cumulative_sum:Q\", title=\" \", axis=alt.Axis(tickCount=5)),\n",
    ").properties(\n",
    "    title=\"Cumulative monkeypox cases in the U.S.\", width=650, height=400\n",
    ").configure_legend(\n",
    "    symbolType=\"stroke\", orient=\"top\"\n",
    ")"
   ]
  },
  {
   "cell_type": "code",
   "execution_count": null,
   "id": "14a6e3c3-3274-4f09-bdf9-22fe4658bd87",
   "metadata": {},
   "outputs": [],
   "source": []
  }
 ],
 "metadata": {
  "kernelspec": {
   "display_name": "Python 3 (ipykernel)",
   "language": "python",
   "name": "python3"
  },
  "language_info": {
   "codemirror_mode": {
    "name": "ipython",
    "version": 3
   },
   "file_extension": ".py",
   "mimetype": "text/x-python",
   "name": "python",
   "nbconvert_exporter": "python",
   "pygments_lexer": "ipython3",
   "version": "3.8.9"
  }
 },
 "nbformat": 4,
 "nbformat_minor": 5
}
