{
 "cells": [
  {
   "cell_type": "markdown",
   "id": "d9c11339-a67f-4fb6-b67d-aba42870d87b",
   "metadata": {},
   "source": [
    "# CDC: Monkeypox cases, by country"
   ]
  },
  {
   "cell_type": "code",
   "execution_count": 1,
   "id": "c7d699b6-4c5a-47b6-b21a-1528e60d5114",
   "metadata": {},
   "outputs": [],
   "source": [
    "import pandas as pd\n",
    "import us\n",
    "import urllib.request, json\n",
    "import datetime as dt"
   ]
  },
  {
   "cell_type": "code",
   "execution_count": 18,
   "id": "c9e03224-95c8-4efd-9024-f6ca98fdeed9",
   "metadata": {},
   "outputs": [],
   "source": [
    "today = pd.Timestamp.now(tz='America/Los_Angeles').strftime(\"%Y-%m-%d\")\n",
    "time = pd.Timestamp.now(tz='America/Los_Angeles').strftime(\"%-I:%M %p\")"
   ]
  },
  {
   "cell_type": "code",
   "execution_count": 20,
   "id": "c65ad11f-977d-438e-aaa7-9a1aea2d61cd",
   "metadata": {},
   "outputs": [
    {
     "data": {
      "text/plain": [
       "'5:30 AM'"
      ]
     },
     "execution_count": 20,
     "metadata": {},
     "output_type": "execute_result"
    }
   ],
   "source": [
    "time"
   ]
  },
  {
   "cell_type": "markdown",
   "id": "55de2756-12bd-44d6-803c-959e42e25a14",
   "metadata": {},
   "source": [
    "---"
   ]
  },
  {
   "cell_type": "markdown",
   "id": "f2e1cecb-e520-4f17-8193-2c2cc677c03d",
   "metadata": {},
   "source": [
    "## Country populations"
   ]
  },
  {
   "cell_type": "markdown",
   "id": "4d1113d8-3103-46b3-8320-5a7f3c43f81a",
   "metadata": {},
   "source": [
    "#### Figures from World Bank"
   ]
  },
  {
   "cell_type": "code",
   "execution_count": 5,
   "id": "2ba25e42-4cbe-4f26-81d8-bb864808fef9",
   "metadata": {},
   "outputs": [],
   "source": [
    "countries_pop = pd.read_csv('data/raw/countries_population.csv')"
   ]
  },
  {
   "cell_type": "markdown",
   "id": "369dbf85-bd05-430c-b1da-c90c365ff36c",
   "metadata": {},
   "source": [
    "---"
   ]
  },
  {
   "cell_type": "markdown",
   "id": "0038e04d-06a1-4928-b6c7-0cafdcfdc00f",
   "metadata": {},
   "source": [
    "## CDC Monkeypox"
   ]
  },
  {
   "cell_type": "markdown",
   "id": "96760db8-9021-4384-8e6e-6f44c87b03e5",
   "metadata": {},
   "source": [
    "#### Aggregated by country"
   ]
  },
  {
   "cell_type": "code",
   "execution_count": 6,
   "id": "8edd28b6-cbb7-4530-9223-a4af5f9673ae",
   "metadata": {},
   "outputs": [],
   "source": [
    "countries_url = 'https://www.cdc.gov/poxvirus/monkeypox/modules/data-viz/mpx_world_map_prod.json'"
   ]
  },
  {
   "cell_type": "code",
   "execution_count": 7,
   "id": "281d6494-8700-48c3-880c-6743ef8497d2",
   "metadata": {},
   "outputs": [],
   "source": [
    "with urllib.request.urlopen(countries_url) as url:\n",
    "    data = json.loads(url.read().decode())\n",
    "    countries_src = pd.DataFrame(data['data'])"
   ]
  },
  {
   "cell_type": "code",
   "execution_count": 8,
   "id": "216fc37a-67cc-448b-8adf-56fa30496e04",
   "metadata": {},
   "outputs": [],
   "source": [
    "countries_src.columns = countries_src.columns.str.lower()"
   ]
  },
  {
   "cell_type": "code",
   "execution_count": 9,
   "id": "f4204295-0f72-4ea6-9096-aa8c60ba62d7",
   "metadata": {},
   "outputs": [
    {
     "data": {
      "text/html": [
       "<div>\n",
       "<style scoped>\n",
       "    .dataframe tbody tr th:only-of-type {\n",
       "        vertical-align: middle;\n",
       "    }\n",
       "\n",
       "    .dataframe tbody tr th {\n",
       "        vertical-align: top;\n",
       "    }\n",
       "\n",
       "    .dataframe thead th {\n",
       "        text-align: right;\n",
       "    }\n",
       "</style>\n",
       "<table border=\"1\" class=\"dataframe\">\n",
       "  <thead>\n",
       "    <tr style=\"text-align: right;\">\n",
       "      <th></th>\n",
       "      <th>country</th>\n",
       "      <th>cases</th>\n",
       "      <th>category</th>\n",
       "      <th>asof</th>\n",
       "    </tr>\n",
       "  </thead>\n",
       "  <tbody>\n",
       "    <tr>\n",
       "      <th>0</th>\n",
       "      <td>Argentina</td>\n",
       "      <td>18</td>\n",
       "      <td>Has not historically reported monkeypox</td>\n",
       "      <td>Data as of 22 Jul 2022 5:00 PM EDT</td>\n",
       "    </tr>\n",
       "    <tr>\n",
       "      <th>1</th>\n",
       "      <td>Australia</td>\n",
       "      <td>42</td>\n",
       "      <td>Has not historically reported monkeypox</td>\n",
       "      <td>Data as of 22 Jul 2022 5:00 PM EDT</td>\n",
       "    </tr>\n",
       "    <tr>\n",
       "      <th>2</th>\n",
       "      <td>Austria</td>\n",
       "      <td>99</td>\n",
       "      <td>Has not historically reported monkeypox</td>\n",
       "      <td>Data as of 22 Jul 2022 5:00 PM EDT</td>\n",
       "    </tr>\n",
       "    <tr>\n",
       "      <th>3</th>\n",
       "      <td>Bahamas</td>\n",
       "      <td>1</td>\n",
       "      <td>Has not historically reported monkeypox</td>\n",
       "      <td>Data as of 22 Jul 2022 5:00 PM EDT</td>\n",
       "    </tr>\n",
       "    <tr>\n",
       "      <th>4</th>\n",
       "      <td>Barbados</td>\n",
       "      <td>1</td>\n",
       "      <td>Has not historically reported monkeypox</td>\n",
       "      <td>Data as of 22 Jul 2022 5:00 PM EDT</td>\n",
       "    </tr>\n",
       "  </tbody>\n",
       "</table>\n",
       "</div>"
      ],
      "text/plain": [
       "     country  cases                                 category  \\\n",
       "0  Argentina     18  Has not historically reported monkeypox   \n",
       "1  Australia     42  Has not historically reported monkeypox   \n",
       "2    Austria     99  Has not historically reported monkeypox   \n",
       "3    Bahamas      1  Has not historically reported monkeypox   \n",
       "4   Barbados      1  Has not historically reported monkeypox   \n",
       "\n",
       "                                 asof  \n",
       "0  Data as of 22 Jul 2022 5:00 PM EDT  \n",
       "1  Data as of 22 Jul 2022 5:00 PM EDT  \n",
       "2  Data as of 22 Jul 2022 5:00 PM EDT  \n",
       "3  Data as of 22 Jul 2022 5:00 PM EDT  \n",
       "4  Data as of 22 Jul 2022 5:00 PM EDT  "
      ]
     },
     "execution_count": 9,
     "metadata": {},
     "output_type": "execute_result"
    }
   ],
   "source": [
    "countries_src.head()"
   ]
  },
  {
   "cell_type": "markdown",
   "id": "49e30ee4-4958-4d2c-8279-77e50d37ab0d",
   "metadata": {},
   "source": [
    "#### Map FIPS codes and AP abbrevations to each state"
   ]
  },
  {
   "cell_type": "code",
   "execution_count": 8,
   "id": "72860085-e24b-4e95-965b-b83f1f3a21ce",
   "metadata": {},
   "outputs": [],
   "source": [
    "countries_src['state_fips'] = countries_src['state'].map(us.countries.mapping('name', 'fips'))\n",
    "countries_src['state_ap'] = countries_src['state'].map(us.countries.mapping('name', 'ap_abbr'))"
   ]
  },
  {
   "cell_type": "markdown",
   "id": "8a5f1e3a-2243-47df-8b7d-ad3a613bb826",
   "metadata": {},
   "source": [
    "---"
   ]
  },
  {
   "cell_type": "markdown",
   "id": "e46b0651-74d6-4d24-a0f4-81cb13c5a7ac",
   "metadata": {},
   "source": [
    "## Merge"
   ]
  },
  {
   "cell_type": "markdown",
   "id": "91bf8faf-bf6d-42a9-8023-be51d86fdb34",
   "metadata": {},
   "source": [
    "#### Population and cases to create a rate"
   ]
  },
  {
   "cell_type": "code",
   "execution_count": 9,
   "id": "1d4da16b-5f47-4c59-aac6-e9372a5556c0",
   "metadata": {},
   "outputs": [],
   "source": [
    "df = pd.merge(countries_src, countries_pop, on=['state_fips', 'state'])"
   ]
  },
  {
   "cell_type": "code",
   "execution_count": 10,
   "id": "34674135-e13c-452e-b752-a9dc6535a558",
   "metadata": {},
   "outputs": [],
   "source": [
    "df['cases_per_million'] = ((df['cases'] / df['pop_acs_2020_5tr'])*1000000).astype(float).round(2)"
   ]
  },
  {
   "cell_type": "code",
   "execution_count": 11,
   "id": "042ddccc-05ed-4f0c-999d-1ae5456e1ab0",
   "metadata": {},
   "outputs": [],
   "source": [
    "df.drop(['range'], axis=1, inplace=True)"
   ]
  },
  {
   "cell_type": "markdown",
   "id": "cf66d7e8-2c51-48e1-b2c1-b9445576671b",
   "metadata": {},
   "source": [
    "---"
   ]
  },
  {
   "cell_type": "markdown",
   "id": "a9439f20-f28e-4850-b347-e1623159dbb9",
   "metadata": {},
   "source": [
    "## Exports"
   ]
  },
  {
   "cell_type": "code",
   "execution_count": 12,
   "id": "5261b2d2-34bd-458e-ac5f-6e8c6c93d41c",
   "metadata": {},
   "outputs": [],
   "source": [
    "df.to_csv(f'data/processed/monkeypox_cases_countries_cdc_{today}.csv', index=False)\n",
    "df.to_json(f'data/processed/monkeypox_cases_countries_cdc_{today}.json', orient='records', indent=4)"
   ]
  }
 ],
 "metadata": {
  "kernelspec": {
   "display_name": "Python 3 (ipykernel)",
   "language": "python",
   "name": "python3"
  },
  "language_info": {
   "codemirror_mode": {
    "name": "ipython",
    "version": 3
   },
   "file_extension": ".py",
   "mimetype": "text/x-python",
   "name": "python",
   "nbconvert_exporter": "python",
   "pygments_lexer": "ipython3",
   "version": "3.8.9"
  }
 },
 "nbformat": 4,
 "nbformat_minor": 5
}
