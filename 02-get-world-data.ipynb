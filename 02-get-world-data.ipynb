{
 "cells": [
  {
   "cell_type": "markdown",
   "id": "d9c11339-a67f-4fb6-b67d-aba42870d87b",
   "metadata": {},
   "source": [
    "# CDC: Monkeypox cases, by country"
   ]
  },
  {
   "cell_type": "code",
   "execution_count": 1,
   "id": "db2a1b1b-d5af-4738-bb7d-b1dd1b59d812",
   "metadata": {},
   "outputs": [],
   "source": [
    "import pandas as pd\n",
    "import us\n",
    "import urllib.request, json\n",
    "import datetime as dt"
   ]
  },
  {
   "cell_type": "code",
   "execution_count": 2,
   "id": "3482444d-08a8-4f5f-ba82-992300aefd73",
   "metadata": {},
   "outputs": [],
   "source": [
    "pd.options.display.max_columns = 1000\n",
    "pd.options.display.max_rows = 1000"
   ]
  },
  {
   "cell_type": "code",
   "execution_count": 3,
   "id": "c9e03224-95c8-4efd-9024-f6ca98fdeed9",
   "metadata": {},
   "outputs": [],
   "source": [
    "today = pd.Timestamp.now(tz='America/Los_Angeles').strftime(\"%Y-%m-%d\")\n",
    "time = pd.Timestamp.now(tz='America/Los_Angeles').strftime(\"%-I:%M %p\")"
   ]
  },
  {
   "cell_type": "markdown",
   "id": "55de2756-12bd-44d6-803c-959e42e25a14",
   "metadata": {},
   "source": [
    "---"
   ]
  },
  {
   "cell_type": "markdown",
   "id": "f2e1cecb-e520-4f17-8193-2c2cc677c03d",
   "metadata": {},
   "source": [
    "## Country populations"
   ]
  },
  {
   "cell_type": "markdown",
   "id": "4d1113d8-3103-46b3-8320-5a7f3c43f81a",
   "metadata": {},
   "source": [
    "#### Figures from World Bank"
   ]
  },
  {
   "cell_type": "code",
   "execution_count": 5,
   "id": "a7713456-bdc2-4eea-b463-c429da3275fc",
   "metadata": {},
   "outputs": [],
   "source": [
    "countries_pop = pd.read_csv('data/raw/countries_population.csv')"
   ]
  },
  {
   "cell_type": "markdown",
   "id": "369dbf85-bd05-430c-b1da-c90c365ff36c",
   "metadata": {},
   "source": [
    "---"
   ]
  },
  {
   "cell_type": "markdown",
   "id": "0038e04d-06a1-4928-b6c7-0cafdcfdc00f",
   "metadata": {},
   "source": [
    "## CDC Monkeypox"
   ]
  },
  {
   "cell_type": "markdown",
   "id": "96760db8-9021-4384-8e6e-6f44c87b03e5",
   "metadata": {},
   "source": [
    "#### Aggregated by country"
   ]
  },
  {
   "cell_type": "code",
   "execution_count": 6,
   "id": "6380ba20-5bb1-44d3-8ce9-0e036bb39fcc",
   "metadata": {},
   "outputs": [],
   "source": [
    "countries_url = 'https://www.cdc.gov/wcms/vizdata/poxvirus/monkeypox/data/MPX-Cases-by-Country.csv'"
   ]
  },
  {
   "cell_type": "code",
   "execution_count": 7,
   "id": "3a7082c5-a12e-4298-8a70-e50999f35401",
   "metadata": {},
   "outputs": [],
   "source": [
    "countries_src = pd.read_csv(countries_url)"
   ]
  },
  {
   "cell_type": "code",
   "execution_count": 8,
   "id": "216fc37a-67cc-448b-8adf-56fa30496e04",
   "metadata": {},
   "outputs": [],
   "source": [
    "countries_src.columns = countries_src.columns.str.lower()"
   ]
  },
  {
   "cell_type": "code",
   "execution_count": 9,
   "id": "ebca48ed-fff0-44ce-b15c-ccb8932c5260",
   "metadata": {},
   "outputs": [],
   "source": [
    "countries_src['updated_date'] = pd.to_datetime(countries_src['asof'].str.replace('Data as of ', '').str.replace(' 5:00 PM EDT', ''))"
   ]
  },
  {
   "cell_type": "code",
   "execution_count": 10,
   "id": "38c285bc-7edf-4c22-a648-9483886f7adb",
   "metadata": {},
   "outputs": [],
   "source": [
    "countries_src['hist_had'] = countries_src.category.str.replace('Has historically reported monkeypox', 'Has').str.replace('Has not historically reported monkeypox', 'Has not')"
   ]
  },
  {
   "cell_type": "code",
   "execution_count": 11,
   "id": "bb0dc49d-0839-4211-97c8-55384ef59cbe",
   "metadata": {},
   "outputs": [],
   "source": [
    "df = countries_src.drop(['category', 'asof'], axis=1).sort_values('cases', ascending=False)"
   ]
  },
  {
   "cell_type": "markdown",
   "id": "8a5f1e3a-2243-47df-8b7d-ad3a613bb826",
   "metadata": {},
   "source": [
    "---"
   ]
  },
  {
   "cell_type": "markdown",
   "id": "e46b0651-74d6-4d24-a0f4-81cb13c5a7ac",
   "metadata": {},
   "source": [
    "## Merge"
   ]
  },
  {
   "cell_type": "markdown",
   "id": "91bf8faf-bf6d-42a9-8023-be51d86fdb34",
   "metadata": {},
   "source": [
    "#### Population and cases to create a rate"
   ]
  },
  {
   "cell_type": "code",
   "execution_count": 13,
   "id": "3588493e-efc0-4f93-b3a9-96249d5768da",
   "metadata": {},
   "outputs": [],
   "source": [
    "merged_df = pd.merge(df, countries_pop, left_on='country', right_on='name')"
   ]
  },
  {
   "cell_type": "code",
   "execution_count": 14,
   "id": "34674135-e13c-452e-b752-a9dc6535a558",
   "metadata": {},
   "outputs": [],
   "source": [
    "merged_df['cases_per_million'] = ((merged_df['cases'] / merged_df['population'])*1000000).astype(float).round(2)"
   ]
  },
  {
   "cell_type": "code",
   "execution_count": 15,
   "id": "042ddccc-05ed-4f0c-999d-1ae5456e1ab0",
   "metadata": {},
   "outputs": [],
   "source": [
    "merged_df.drop(['name'], axis=1, inplace=True)"
   ]
  },
  {
   "cell_type": "markdown",
   "id": "cf66d7e8-2c51-48e1-b2c1-b9445576671b",
   "metadata": {},
   "source": [
    "---"
   ]
  },
  {
   "cell_type": "markdown",
   "id": "a9439f20-f28e-4850-b347-e1623159dbb9",
   "metadata": {},
   "source": [
    "## Exports"
   ]
  },
  {
   "cell_type": "code",
   "execution_count": 16,
   "id": "5261b2d2-34bd-458e-ac5f-6e8c6c93d41c",
   "metadata": {},
   "outputs": [],
   "source": [
    "merged_df.to_csv(f'data/processed/monkeypox_cases_countries_cdc_latest.csv', index=False)\n",
    "merged_df.to_csv(f'data/processed/monkeypox_cases_countries_cdc_{today}.csv', index=False)\n",
    "merged_df.to_json(f'data/processed/monkeypox_cases_countries_cdc_{today}.json', orient='records', indent=4)"
   ]
  }
 ],
 "metadata": {
  "kernelspec": {
   "display_name": "Python 3 (ipykernel)",
   "language": "python",
   "name": "python3"
  },
  "language_info": {
   "codemirror_mode": {
    "name": "ipython",
    "version": 3
   },
   "file_extension": ".py",
   "mimetype": "text/x-python",
   "name": "python",
   "nbconvert_exporter": "python",
   "pygments_lexer": "ipython3",
   "version": "3.8.9"
  }
 },
 "nbformat": 4,
 "nbformat_minor": 5
}
