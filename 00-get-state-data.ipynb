{
 "cells": [
  {
   "cell_type": "markdown",
   "id": "d9c11339-a67f-4fb6-b67d-aba42870d87b",
   "metadata": {},
   "source": [
    "# CDC: Monkeypox cases, by state"
   ]
  },
  {
   "cell_type": "code",
   "execution_count": 2,
   "id": "c7d699b6-4c5a-47b6-b21a-1528e60d5114",
   "metadata": {},
   "outputs": [],
   "source": [
    "import pandas as pd\n",
    "import us\n",
    "import urllib.request, json\n",
    "import datetime as dt"
   ]
  },
  {
   "cell_type": "code",
   "execution_count": 3,
   "id": "d6fb94d1-5e21-4de7-86ac-f2c3c1411926",
   "metadata": {},
   "outputs": [],
   "source": [
    "today = pd.Timestamp.now(tz='America/Los_Angeles').strftime(\"%Y-%m-%d\")\n",
    "time = pd.Timestamp.now(tz='America/Los_Angeles').strftime(\"%-I:%M %p\")"
   ]
  },
  {
   "cell_type": "markdown",
   "id": "55de2756-12bd-44d6-803c-959e42e25a14",
   "metadata": {},
   "source": [
    "---"
   ]
  },
  {
   "cell_type": "markdown",
   "id": "f2e1cecb-e520-4f17-8193-2c2cc677c03d",
   "metadata": {},
   "source": [
    "## State populations"
   ]
  },
  {
   "cell_type": "markdown",
   "id": "4d1113d8-3103-46b3-8320-5a7f3c43f81a",
   "metadata": {},
   "source": [
    "#### Figures from ACS 2020, 5-year estimates"
   ]
  },
  {
   "cell_type": "code",
   "execution_count": 4,
   "id": "e2bd14ec-d2fa-40a2-aa74-ba7c30481320",
   "metadata": {},
   "outputs": [],
   "source": [
    "states_pop = pd.read_csv('data/raw/states_population.csv')"
   ]
  },
  {
   "cell_type": "markdown",
   "id": "2fc67190-f2c7-43b5-b40e-f96a4b7a2f3c",
   "metadata": {},
   "source": [
    "#### Map FIPS codes to each state"
   ]
  },
  {
   "cell_type": "code",
   "execution_count": 5,
   "id": "2d71c32a-8faf-481f-822b-50620475824a",
   "metadata": {},
   "outputs": [],
   "source": [
    "states_pop['state_fips'] = states_pop['state'].map(us.states.mapping('name', 'fips'))"
   ]
  },
  {
   "cell_type": "markdown",
   "id": "369dbf85-bd05-430c-b1da-c90c365ff36c",
   "metadata": {},
   "source": [
    "---"
   ]
  },
  {
   "cell_type": "markdown",
   "id": "0038e04d-06a1-4928-b6c7-0cafdcfdc00f",
   "metadata": {},
   "source": [
    "## CDC Monkeypox"
   ]
  },
  {
   "cell_type": "markdown",
   "id": "96760db8-9021-4384-8e6e-6f44c87b03e5",
   "metadata": {},
   "source": [
    "#### Aggregated by state"
   ]
  },
  {
   "cell_type": "code",
   "execution_count": 6,
   "id": "8edd28b6-cbb7-4530-9223-a4af5f9673ae",
   "metadata": {},
   "outputs": [],
   "source": [
    "states_url = 'https://www.cdc.gov/poxvirus/monkeypox/modules/data-viz/mpx-maps.json'"
   ]
  },
  {
   "cell_type": "code",
   "execution_count": 7,
   "id": "281d6494-8700-48c3-880c-6743ef8497d2",
   "metadata": {},
   "outputs": [],
   "source": [
    "with urllib.request.urlopen(states_url) as url:\n",
    "    data = json.loads(url.read().decode())\n",
    "    states_src = pd.DataFrame(data['data'])"
   ]
  },
  {
   "cell_type": "code",
   "execution_count": 8,
   "id": "bf2bf45c-ebd6-4bbb-a732-3ac80a075346",
   "metadata": {},
   "outputs": [],
   "source": [
    "states_src.columns = states_src.columns.str.lower()"
   ]
  },
  {
   "cell_type": "markdown",
   "id": "49e30ee4-4958-4d2c-8279-77e50d37ab0d",
   "metadata": {},
   "source": [
    "#### Map FIPS codes and AP abbrevations to each state"
   ]
  },
  {
   "cell_type": "code",
   "execution_count": 9,
   "id": "72860085-e24b-4e95-965b-b83f1f3a21ce",
   "metadata": {},
   "outputs": [],
   "source": [
    "states_src['state_fips'] = states_src['state'].map(us.states.mapping('name', 'fips'))\n",
    "states_src['state_ap'] = states_src['state'].map(us.states.mapping('name', 'ap_abbr'))"
   ]
  },
  {
   "cell_type": "markdown",
   "id": "8a5f1e3a-2243-47df-8b7d-ad3a613bb826",
   "metadata": {},
   "source": [
    "---"
   ]
  },
  {
   "cell_type": "markdown",
   "id": "e46b0651-74d6-4d24-a0f4-81cb13c5a7ac",
   "metadata": {},
   "source": [
    "## Merge"
   ]
  },
  {
   "cell_type": "markdown",
   "id": "91bf8faf-bf6d-42a9-8023-be51d86fdb34",
   "metadata": {},
   "source": [
    "#### Population and cases to create a rate"
   ]
  },
  {
   "cell_type": "code",
   "execution_count": 10,
   "id": "85240c8f-68b1-45ee-b812-f6e2592feae0",
   "metadata": {},
   "outputs": [],
   "source": [
    "df = pd.merge(states_src, states_pop, on=['state_fips', 'state'])"
   ]
  },
  {
   "cell_type": "code",
   "execution_count": 11,
   "id": "0e1faec3-9fff-45d3-8908-689e1c83b135",
   "metadata": {},
   "outputs": [],
   "source": [
    "df['cases'] = df['cases'].astype(int)"
   ]
  },
  {
   "cell_type": "code",
   "execution_count": 13,
   "id": "34674135-e13c-452e-b752-a9dc6535a558",
   "metadata": {},
   "outputs": [],
   "source": [
    "df['cases_per_million'] = ((df['cases'] / df['pop_acs_2020_5tr'])*1000000).astype(float).round(2)"
   ]
  },
  {
   "cell_type": "code",
   "execution_count": 14,
   "id": "0a349293-2acc-4bdc-be4a-2263fe1aacd5",
   "metadata": {},
   "outputs": [],
   "source": [
    "df.drop(['case range'], axis=1, inplace=True)"
   ]
  },
  {
   "cell_type": "code",
   "execution_count": 15,
   "id": "c6eb416a-f4eb-40fb-9dcd-f4ebc9c02cff",
   "metadata": {},
   "outputs": [
    {
     "data": {
      "text/plain": [
       "7099"
      ]
     },
     "execution_count": 15,
     "metadata": {},
     "output_type": "execute_result"
    }
   ],
   "source": [
    "df['cases'].sum()"
   ]
  },
  {
   "cell_type": "markdown",
   "id": "cf66d7e8-2c51-48e1-b2c1-b9445576671b",
   "metadata": {},
   "source": [
    "---"
   ]
  },
  {
   "cell_type": "markdown",
   "id": "a9439f20-f28e-4850-b347-e1623159dbb9",
   "metadata": {},
   "source": [
    "## Exports"
   ]
  },
  {
   "cell_type": "code",
   "execution_count": null,
   "id": "5261b2d2-34bd-458e-ac5f-6e8c6c93d41c",
   "metadata": {},
   "outputs": [],
   "source": [
    "# df.to_csv(f'data/processed/monkeypox_cases_states_cdc_{today}.csv', index=False)\n",
    "# df.to_json(f'data/processed/monkeypox_cases_states_cdc_{today}.json', orient='records', indent=4)"
   ]
  }
 ],
 "metadata": {
  "kernelspec": {
   "display_name": "Python 3 (ipykernel)",
   "language": "python",
   "name": "python3"
  },
  "language_info": {
   "codemirror_mode": {
    "name": "ipython",
    "version": 3
   },
   "file_extension": ".py",
   "mimetype": "text/x-python",
   "name": "python",
   "nbconvert_exporter": "python",
   "pygments_lexer": "ipython3",
   "version": "3.8.9"
  }
 },
 "nbformat": 4,
 "nbformat_minor": 5
}
