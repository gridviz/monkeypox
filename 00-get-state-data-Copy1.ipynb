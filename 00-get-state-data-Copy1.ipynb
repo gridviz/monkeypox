{
 "cells": [
  {
   "cell_type": "markdown",
   "id": "d9c11339-a67f-4fb6-b67d-aba42870d87b",
   "metadata": {},
   "source": [
    "# CDC: Monkeypox derived timeseries"
   ]
  },
  {
   "cell_type": "code",
   "execution_count": 1,
   "id": "c7d699b6-4c5a-47b6-b21a-1528e60d5114",
   "metadata": {},
   "outputs": [],
   "source": [
    "import pandas as pd\n",
    "import us\n",
    "import urllib.request, json\n",
    "import datetime as dt"
   ]
  },
  {
   "cell_type": "code",
   "execution_count": 2,
   "id": "c467e6bc-3038-4987-bf5c-cd975ce19857",
   "metadata": {},
   "outputs": [],
   "source": [
    "today = pd.Timestamp.now(tz='America/Los_Angeles').strftime(\"%Y-%m-%d\")\n",
    "time = pd.Timestamp.now(tz='America/Los_Angeles').strftime(\"%-I:%M %p\")"
   ]
  },
  {
   "cell_type": "markdown",
   "id": "55de2756-12bd-44d6-803c-959e42e25a14",
   "metadata": {},
   "source": [
    "---"
   ]
  },
  {
   "cell_type": "markdown",
   "id": "2fc67190-f2c7-43b5-b40e-f96a4b7a2f3c",
   "metadata": {},
   "source": [
    "## Get historical case timeseries"
   ]
  },
  {
   "cell_type": "markdown",
   "id": "60ed8dbd-90ea-49bc-8b43-e33547e4ed5e",
   "metadata": {},
   "source": [
    "#### May 17-Aug. 3"
   ]
  },
  {
   "cell_type": "code",
   "execution_count": 3,
   "id": "5903d7d2-6974-4af2-837c-f9cb490df539",
   "metadata": {},
   "outputs": [],
   "source": [
    "historical_src = pd.read_csv('data/processed/monkeypox_cases_timeseries_cdc_historical_2022-08-03.csv', parse_dates=['date']).sort_values('date', ascending=False).reset_index(drop=True)"
   ]
  },
  {
   "cell_type": "code",
   "execution_count": 4,
   "id": "87abf1ee-f9da-4b16-b095-52e606734eb0",
   "metadata": {},
   "outputs": [],
   "source": [
    "historical_src['date'] = historical_src['date'].astype(str)"
   ]
  },
  {
   "cell_type": "code",
   "execution_count": 5,
   "id": "6403670c-e009-405b-b7b8-f844f369e344",
   "metadata": {},
   "outputs": [
    {
     "data": {
      "text/html": [
       "<div>\n",
       "<style scoped>\n",
       "    .dataframe tbody tr th:only-of-type {\n",
       "        vertical-align: middle;\n",
       "    }\n",
       "\n",
       "    .dataframe tbody tr th {\n",
       "        vertical-align: top;\n",
       "    }\n",
       "\n",
       "    .dataframe thead th {\n",
       "        text-align: right;\n",
       "    }\n",
       "</style>\n",
       "<table border=\"1\" class=\"dataframe\">\n",
       "  <thead>\n",
       "    <tr style=\"text-align: right;\">\n",
       "      <th></th>\n",
       "      <th>date</th>\n",
       "      <th>cases</th>\n",
       "      <th>cumulative_sum</th>\n",
       "    </tr>\n",
       "  </thead>\n",
       "  <tbody>\n",
       "    <tr>\n",
       "      <th>0</th>\n",
       "      <td>2022-08-03</td>\n",
       "      <td>229</td>\n",
       "      <td>6616</td>\n",
       "    </tr>\n",
       "    <tr>\n",
       "      <th>1</th>\n",
       "      <td>2022-08-02</td>\n",
       "      <td>516</td>\n",
       "      <td>6387</td>\n",
       "    </tr>\n",
       "    <tr>\n",
       "      <th>2</th>\n",
       "      <td>2022-08-01</td>\n",
       "      <td>562</td>\n",
       "      <td>5871</td>\n",
       "    </tr>\n",
       "    <tr>\n",
       "      <th>3</th>\n",
       "      <td>2022-07-31</td>\n",
       "      <td>14</td>\n",
       "      <td>5309</td>\n",
       "    </tr>\n",
       "    <tr>\n",
       "      <th>4</th>\n",
       "      <td>2022-07-30</td>\n",
       "      <td>16</td>\n",
       "      <td>5295</td>\n",
       "    </tr>\n",
       "    <tr>\n",
       "      <th>...</th>\n",
       "      <td>...</td>\n",
       "      <td>...</td>\n",
       "      <td>...</td>\n",
       "    </tr>\n",
       "    <tr>\n",
       "      <th>74</th>\n",
       "      <td>2022-05-21</td>\n",
       "      <td>2</td>\n",
       "      <td>4</td>\n",
       "    </tr>\n",
       "    <tr>\n",
       "      <th>75</th>\n",
       "      <td>2022-05-20</td>\n",
       "      <td>1</td>\n",
       "      <td>2</td>\n",
       "    </tr>\n",
       "    <tr>\n",
       "      <th>76</th>\n",
       "      <td>2022-05-19</td>\n",
       "      <td>0</td>\n",
       "      <td>1</td>\n",
       "    </tr>\n",
       "    <tr>\n",
       "      <th>77</th>\n",
       "      <td>2022-05-18</td>\n",
       "      <td>0</td>\n",
       "      <td>1</td>\n",
       "    </tr>\n",
       "    <tr>\n",
       "      <th>78</th>\n",
       "      <td>2022-05-17</td>\n",
       "      <td>1</td>\n",
       "      <td>1</td>\n",
       "    </tr>\n",
       "  </tbody>\n",
       "</table>\n",
       "<p>79 rows × 3 columns</p>\n",
       "</div>"
      ],
      "text/plain": [
       "          date  cases  cumulative_sum\n",
       "0   2022-08-03    229            6616\n",
       "1   2022-08-02    516            6387\n",
       "2   2022-08-01    562            5871\n",
       "3   2022-07-31     14            5309\n",
       "4   2022-07-30     16            5295\n",
       "..         ...    ...             ...\n",
       "74  2022-05-21      2               4\n",
       "75  2022-05-20      1               2\n",
       "76  2022-05-19      0               1\n",
       "77  2022-05-18      0               1\n",
       "78  2022-05-17      1               1\n",
       "\n",
       "[79 rows x 3 columns]"
      ]
     },
     "execution_count": 5,
     "metadata": {},
     "output_type": "execute_result"
    }
   ],
   "source": [
    "historical_src"
   ]
  },
  {
   "cell_type": "markdown",
   "id": "369dbf85-bd05-430c-b1da-c90c365ff36c",
   "metadata": {},
   "source": [
    "---"
   ]
  },
  {
   "cell_type": "markdown",
   "id": "0038e04d-06a1-4928-b6c7-0cafdcfdc00f",
   "metadata": {},
   "source": [
    "## CDC Monkeypox"
   ]
  },
  {
   "cell_type": "markdown",
   "id": "96760db8-9021-4384-8e6e-6f44c87b03e5",
   "metadata": {},
   "source": [
    "#### Latest totals, aggregated by state"
   ]
  },
  {
   "cell_type": "code",
   "execution_count": 6,
   "id": "8edd28b6-cbb7-4530-9223-a4af5f9673ae",
   "metadata": {},
   "outputs": [],
   "source": [
    "states_url = 'https://www.cdc.gov/poxvirus/monkeypox/modules/data-viz/mpx-maps.json'"
   ]
  },
  {
   "cell_type": "code",
   "execution_count": 7,
   "id": "281d6494-8700-48c3-880c-6743ef8497d2",
   "metadata": {},
   "outputs": [],
   "source": [
    "with urllib.request.urlopen(states_url) as url:\n",
    "    data = json.loads(url.read().decode())\n",
    "    states_src = pd.DataFrame(data['data'])"
   ]
  },
  {
   "cell_type": "code",
   "execution_count": 8,
   "id": "bf2bf45c-ebd6-4bbb-a732-3ac80a075346",
   "metadata": {},
   "outputs": [],
   "source": [
    "states_src.columns = states_src.columns.str.lower().str.replace(' ', '_', regex=False)"
   ]
  },
  {
   "cell_type": "code",
   "execution_count": 9,
   "id": "e3af4a91-43cc-47e2-b9c8-19a3599d06f4",
   "metadata": {},
   "outputs": [],
   "source": [
    "states_src.drop(['case_range'], axis=1, inplace=True)"
   ]
  },
  {
   "cell_type": "code",
   "execution_count": 10,
   "id": "b8cde45a-81a9-4e9c-aa2f-feb65dce1c06",
   "metadata": {},
   "outputs": [],
   "source": [
    "states_src['cases'] = states_src['cases'].astype(int)"
   ]
  },
  {
   "cell_type": "markdown",
   "id": "eb2c38a6-4184-490f-b52f-1fa7334bfd44",
   "metadata": {},
   "source": [
    "---"
   ]
  },
  {
   "cell_type": "markdown",
   "id": "db0f84f8-ae6b-4392-a357-c0541b4f34d2",
   "metadata": {},
   "source": [
    "#### Aggregate totals among all states to add to timeseries"
   ]
  },
  {
   "cell_type": "code",
   "execution_count": 11,
   "id": "3c0ef59f-e638-4ed1-b6a6-5b3e38d5464b",
   "metadata": {},
   "outputs": [],
   "source": [
    "latest_total = states_src['cases'].sum()"
   ]
  },
  {
   "cell_type": "code",
   "execution_count": 12,
   "id": "1051b3e9-ac81-4292-a189-0cea10156b81",
   "metadata": {},
   "outputs": [],
   "source": [
    "historical_total = historical_src[historical_src['date'] == historical_src['date'].max()]['cumulative_sum'][0]"
   ]
  },
  {
   "cell_type": "code",
   "execution_count": 13,
   "id": "9a87d90f-656c-48a5-b15e-071a90174126",
   "metadata": {},
   "outputs": [],
   "source": [
    "change = latest_total - historical_total"
   ]
  },
  {
   "cell_type": "code",
   "execution_count": 14,
   "id": "f2d7345b-3141-4776-84a7-b5fac9ab65c2",
   "metadata": {},
   "outputs": [],
   "source": [
    "updated_data = {'date': today, 'cases': change, 'cumulative_sum': latest_total}"
   ]
  },
  {
   "cell_type": "code",
   "execution_count": 15,
   "id": "1c2cb5e1-cfe1-42f8-94d3-dce3f71af6f0",
   "metadata": {},
   "outputs": [],
   "source": [
    "updated_data_df = pd.DataFrame(updated_data, index=[0])"
   ]
  },
  {
   "cell_type": "code",
   "execution_count": 16,
   "id": "4078450e-1e05-4b82-bb42-d02cbe9084ad",
   "metadata": {},
   "outputs": [],
   "source": [
    "df = pd.concat([updated_data_df, historical_src]).copy()"
   ]
  },
  {
   "cell_type": "code",
   "execution_count": 17,
   "id": "47cbefb6-a9a6-4f01-a2cf-a9a831e4dfd6",
   "metadata": {},
   "outputs": [
    {
     "data": {
      "text/html": [
       "<div>\n",
       "<style scoped>\n",
       "    .dataframe tbody tr th:only-of-type {\n",
       "        vertical-align: middle;\n",
       "    }\n",
       "\n",
       "    .dataframe tbody tr th {\n",
       "        vertical-align: top;\n",
       "    }\n",
       "\n",
       "    .dataframe thead th {\n",
       "        text-align: right;\n",
       "    }\n",
       "</style>\n",
       "<table border=\"1\" class=\"dataframe\">\n",
       "  <thead>\n",
       "    <tr style=\"text-align: right;\">\n",
       "      <th></th>\n",
       "      <th>date</th>\n",
       "      <th>cases</th>\n",
       "      <th>cumulative_sum</th>\n",
       "    </tr>\n",
       "  </thead>\n",
       "  <tbody>\n",
       "    <tr>\n",
       "      <th>0</th>\n",
       "      <td>2022-08-05</td>\n",
       "      <td>483</td>\n",
       "      <td>7099</td>\n",
       "    </tr>\n",
       "    <tr>\n",
       "      <th>0</th>\n",
       "      <td>2022-08-03</td>\n",
       "      <td>229</td>\n",
       "      <td>6616</td>\n",
       "    </tr>\n",
       "    <tr>\n",
       "      <th>1</th>\n",
       "      <td>2022-08-02</td>\n",
       "      <td>516</td>\n",
       "      <td>6387</td>\n",
       "    </tr>\n",
       "    <tr>\n",
       "      <th>2</th>\n",
       "      <td>2022-08-01</td>\n",
       "      <td>562</td>\n",
       "      <td>5871</td>\n",
       "    </tr>\n",
       "    <tr>\n",
       "      <th>3</th>\n",
       "      <td>2022-07-31</td>\n",
       "      <td>14</td>\n",
       "      <td>5309</td>\n",
       "    </tr>\n",
       "  </tbody>\n",
       "</table>\n",
       "</div>"
      ],
      "text/plain": [
       "         date  cases  cumulative_sum\n",
       "0  2022-08-05    483            7099\n",
       "0  2022-08-03    229            6616\n",
       "1  2022-08-02    516            6387\n",
       "2  2022-08-01    562            5871\n",
       "3  2022-07-31     14            5309"
      ]
     },
     "execution_count": 17,
     "metadata": {},
     "output_type": "execute_result"
    }
   ],
   "source": [
    "df.head()"
   ]
  },
  {
   "cell_type": "markdown",
   "id": "cf66d7e8-2c51-48e1-b2c1-b9445576671b",
   "metadata": {},
   "source": [
    "---"
   ]
  },
  {
   "cell_type": "markdown",
   "id": "a9439f20-f28e-4850-b347-e1623159dbb9",
   "metadata": {},
   "source": [
    "## Exports"
   ]
  },
  {
   "cell_type": "code",
   "execution_count": 18,
   "id": "5261b2d2-34bd-458e-ac5f-6e8c6c93d41c",
   "metadata": {},
   "outputs": [],
   "source": [
    "df.to_csv(f'data/processed/monkeypox_cases_derived_timeseries_latest.csv', index=False)\n",
    "df.to_json(f'data/processed/monkeypox_cases_derived_timeseries_latest.json', orient='records', indent=4)"
   ]
  }
 ],
 "metadata": {
  "kernelspec": {
   "display_name": "Python 3 (ipykernel)",
   "language": "python",
   "name": "python3"
  },
  "language_info": {
   "codemirror_mode": {
    "name": "ipython",
    "version": 3
   },
   "file_extension": ".py",
   "mimetype": "text/x-python",
   "name": "python",
   "nbconvert_exporter": "python",
   "pygments_lexer": "ipython3",
   "version": "3.8.9"
  }
 },
 "nbformat": 4,
 "nbformat_minor": 5
}
