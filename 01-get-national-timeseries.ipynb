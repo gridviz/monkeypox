{
 "cells": [
  {
   "cell_type": "markdown",
   "id": "d9c11339-a67f-4fb6-b67d-aba42870d87b",
   "metadata": {},
   "source": [
    "# CDC: Monkeypox daily case totals"
   ]
  },
  {
   "cell_type": "code",
   "execution_count": 1,
   "id": "c7d699b6-4c5a-47b6-b21a-1528e60d5114",
   "metadata": {},
   "outputs": [],
   "source": [
    "import pandas as pd\n",
    "import us\n",
    "import urllib.request, json\n",
    "import datetime as dt"
   ]
  },
  {
   "cell_type": "code",
   "execution_count": 2,
   "id": "d6fb94d1-5e21-4de7-86ac-f2c3c1411926",
   "metadata": {},
   "outputs": [],
   "source": [
    "today = pd.Timestamp.now(tz='America/Los_Angeles').strftime(\"%Y-%m-%d\")\n",
    "time = pd.Timestamp.now(tz='America/Los_Angeles').strftime(\"%-I:%M %p\")"
   ]
  },
  {
   "cell_type": "markdown",
   "id": "0038e04d-06a1-4928-b6c7-0cafdcfdc00f",
   "metadata": {},
   "source": [
    "## CDC Monkeypox"
   ]
  },
  {
   "cell_type": "markdown",
   "id": "96760db8-9021-4384-8e6e-6f44c87b03e5",
   "metadata": {},
   "source": [
    "#### Aggregated by state"
   ]
  },
  {
   "cell_type": "code",
   "execution_count": 3,
   "id": "8edd28b6-cbb7-4530-9223-a4af5f9673ae",
   "metadata": {},
   "outputs": [],
   "source": [
    "cases_url = 'https://www.cdc.gov/poxvirus/monkeypox/modules/data-viz/mpx-trend.json'"
   ]
  },
  {
   "cell_type": "code",
   "execution_count": 4,
   "id": "281d6494-8700-48c3-880c-6743ef8497d2",
   "metadata": {},
   "outputs": [],
   "source": [
    "with urllib.request.urlopen(cases_url) as url:\n",
    "    data = json.loads(url.read().decode())\n",
    "    cases_src = pd.DataFrame(data['data'])"
   ]
  },
  {
   "cell_type": "code",
   "execution_count": 5,
   "id": "c02b61df-a707-4a0f-9084-bf9971847d52",
   "metadata": {},
   "outputs": [],
   "source": [
    "cases_src.columns = cases_src.columns.str.lower()"
   ]
  },
  {
   "cell_type": "code",
   "execution_count": 6,
   "id": "f8af4f67-d2a3-4420-b37c-bb8f575031a7",
   "metadata": {},
   "outputs": [],
   "source": [
    "cases_src.rename(columns={'epi-date': 'date'}, inplace=True)"
   ]
  },
  {
   "cell_type": "markdown",
   "id": "a9439f20-f28e-4850-b347-e1623159dbb9",
   "metadata": {},
   "source": [
    "## Exports"
   ]
  },
  {
   "cell_type": "code",
   "execution_count": 7,
   "id": "5261b2d2-34bd-458e-ac5f-6e8c6c93d41c",
   "metadata": {},
   "outputs": [],
   "source": [
    "cases_src.to_csv(f'data/processed/monkeypox_cases_timeseries_cdc_{today}.csv', index=False)\n",
    "cases_src.to_json(f'data/processed/monkeypox_cases_timeseries_cdc_{today}.json', orient='records', indent=4)"
   ]
  }
 ],
 "metadata": {
  "kernelspec": {
   "display_name": "Python 3 (ipykernel)",
   "language": "python",
   "name": "python3"
  },
  "language_info": {
   "codemirror_mode": {
    "name": "ipython",
    "version": 3
   },
   "file_extension": ".py",
   "mimetype": "text/x-python",
   "name": "python",
   "nbconvert_exporter": "python",
   "pygments_lexer": "ipython3",
   "version": "3.8.9"
  }
 },
 "nbformat": 4,
 "nbformat_minor": 5
}
