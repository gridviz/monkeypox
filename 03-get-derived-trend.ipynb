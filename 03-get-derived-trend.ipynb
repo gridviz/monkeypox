{
 "cells": [
  {
   "cell_type": "markdown",
   "id": "d9c11339-a67f-4fb6-b67d-aba42870d87b",
   "metadata": {},
   "source": [
    "# CDC: Monkeypox derived timeseries"
   ]
  },
  {
   "cell_type": "code",
   "execution_count": 1,
   "id": "3c7d0263-6a3e-414a-9611-b85fc91129d2",
   "metadata": {},
   "outputs": [],
   "source": [
    "%load_ext lab_black"
   ]
  },
  {
   "cell_type": "code",
   "execution_count": 2,
   "id": "7995f35e-ef1b-4739-8e37-2d448488c7be",
   "metadata": {},
   "outputs": [],
   "source": [
    "import pandas as pd\n",
    "import us\n",
    "import urllib.request, json\n",
    "import datetime as dt"
   ]
  },
  {
   "cell_type": "code",
   "execution_count": 3,
   "id": "c467e6bc-3038-4987-bf5c-cd975ce19857",
   "metadata": {},
   "outputs": [],
   "source": [
    "today = pd.Timestamp.now(tz=\"America/Los_Angeles\").strftime(\"%Y-%m-%d\")\n",
    "time = pd.Timestamp.now(tz=\"America/Los_Angeles\").strftime(\"%-I:%M %p\")"
   ]
  },
  {
   "cell_type": "markdown",
   "id": "55de2756-12bd-44d6-803c-959e42e25a14",
   "metadata": {},
   "source": [
    "---"
   ]
  },
  {
   "cell_type": "markdown",
   "id": "2fc67190-f2c7-43b5-b40e-f96a4b7a2f3c",
   "metadata": {},
   "source": [
    "## Get historical case timeseries"
   ]
  },
  {
   "cell_type": "markdown",
   "id": "67d862c0-5b00-4d40-a7ed-b98851201a42",
   "metadata": {},
   "source": [
    "#### CDC only updates this weekly"
   ]
  },
  {
   "cell_type": "code",
   "execution_count": 44,
   "id": "deae7c6b-991d-4443-952f-493facbde295",
   "metadata": {},
   "outputs": [],
   "source": [
    "cdc_timeseries = (\n",
    "    pd.read_csv(\n",
    "        \"data/processed/monkeypox_cases_timeseries_cdc_latest.csv\",\n",
    "        parse_dates=[\"date\"],\n",
    "        names=[\"date\", \"cases\", \"asof\", \"cumulative_sum\"],\n",
    "        header=0,\n",
    "    )\n",
    "    .drop([\"asof\"], axis=1)\n",
    "    .sort_values(\"date\", ascending=False)\n",
    ").reset_index(drop=True)"
   ]
  },
  {
   "cell_type": "code",
   "execution_count": 45,
   "id": "c454b3e1-e07e-4d3e-8d32-210609f91d90",
   "metadata": {},
   "outputs": [],
   "source": [
    "cdc_timeseries.head()"
   ]
  },
  {
   "cell_type": "code",
   "execution_count": 65,
   "id": "a3a2cff1-c9da-45e6-a15a-e3957180ba02",
   "metadata": {},
   "outputs": [],
   "source": [
    "cdc_timeseries[\"date\"] = pd.to_datetime(cdc_timeseries[\"date\"]).dt.strftime(\"%Y-%m-%d\")"
   ]
  },
  {
   "cell_type": "code",
   "execution_count": 26,
   "id": "ca4811c4-6123-4a9c-af54-1a872b853595",
   "metadata": {},
   "outputs": [],
   "source": [
    "cdc_max_date = cdc_timeseries[\"date\"].max()"
   ]
  },
  {
   "cell_type": "code",
   "execution_count": 27,
   "id": "24be1c9e-24d9-40a1-b1ae-dce6aca0eab9",
   "metadata": {},
   "outputs": [],
   "source": [
    "cdc_max_date"
   ]
  },
  {
   "cell_type": "code",
   "execution_count": 63,
   "id": "32ca975e-dc02-4fe9-a403-ddb27e8b8fc0",
   "metadata": {},
   "outputs": [
    {
     "data": {
      "text/plain": [
       "date              datetime64[ns]\n",
       "cases                      int64\n",
       "cumulative_sum             int64\n",
       "dtype: object"
      ]
     },
     "execution_count": 63,
     "metadata": {},
     "output_type": "execute_result"
    }
   ],
   "source": [
    "cdc_timeseries.dtypes"
   ]
  },
  {
   "cell_type": "markdown",
   "id": "c58710c3-a0c4-4fa5-ac72-bc6c5a8bb2ad",
   "metadata": {},
   "source": [
    "#### The latest timeseries we have"
   ]
  },
  {
   "cell_type": "code",
   "execution_count": 28,
   "id": "f6ad1a09-1ab8-437c-b156-dff9bf267b35",
   "metadata": {},
   "outputs": [],
   "source": [
    "# historical_src = (\n",
    "#     pd.read_csv(\n",
    "#         \"data/processed/monkeypox_cases_timeseries_cdc_historical.csv\",\n",
    "#         parse_dates=[\"date\"],\n",
    "#     )\n",
    "#     .sort_values(\"date\", ascending=False)\n",
    "#     .reset_index(drop=True)\n",
    "# )"
   ]
  },
  {
   "cell_type": "code",
   "execution_count": 29,
   "id": "87abf1ee-f9da-4b16-b095-52e606734eb0",
   "metadata": {},
   "outputs": [],
   "source": [
    "# historical_src[\"date\"] = historical_src[\"date\"].astype(str)"
   ]
  },
  {
   "cell_type": "code",
   "execution_count": 30,
   "id": "531b1f4d-3439-4c3e-8b8b-698f33a2d459",
   "metadata": {},
   "outputs": [],
   "source": [
    "# historical_df = historical_src[historical_src[\"date\"] < today].reset_index(drop=True)"
   ]
  },
  {
   "cell_type": "code",
   "execution_count": 31,
   "id": "cde189c7-e460-4074-9496-5672bc83b12a",
   "metadata": {},
   "outputs": [],
   "source": [
    "# historical_df.head()"
   ]
  },
  {
   "cell_type": "markdown",
   "id": "369dbf85-bd05-430c-b1da-c90c365ff36c",
   "metadata": {},
   "source": [
    "---"
   ]
  },
  {
   "cell_type": "markdown",
   "id": "0038e04d-06a1-4928-b6c7-0cafdcfdc00f",
   "metadata": {},
   "source": [
    "## CDC Monkeypox"
   ]
  },
  {
   "cell_type": "markdown",
   "id": "96760db8-9021-4384-8e6e-6f44c87b03e5",
   "metadata": {},
   "source": [
    "#### Latest totals, aggregated by state"
   ]
  },
  {
   "cell_type": "code",
   "execution_count": 66,
   "id": "9a0110a2-af46-4313-9410-59aa77ca99c9",
   "metadata": {},
   "outputs": [],
   "source": [
    "states_src = pd.read_csv(\n",
    "    \"https://www.cdc.gov/wcms/vizdata/poxvirus/monkeypox/data/USmap_counts.csv\"\n",
    ")"
   ]
  },
  {
   "cell_type": "code",
   "execution_count": 67,
   "id": "bf2bf45c-ebd6-4bbb-a732-3ac80a075346",
   "metadata": {},
   "outputs": [],
   "source": [
    "states_src.columns = states_src.columns.str.lower().str.replace(\" \", \"_\", regex=False)"
   ]
  },
  {
   "cell_type": "code",
   "execution_count": 68,
   "id": "e3af4a91-43cc-47e2-b9c8-19a3599d06f4",
   "metadata": {},
   "outputs": [],
   "source": [
    "states_src.drop([\"case_range\"], axis=1, inplace=True)"
   ]
  },
  {
   "cell_type": "code",
   "execution_count": 69,
   "id": "9140172f-4563-44f9-a343-1110c9d0155a",
   "metadata": {},
   "outputs": [],
   "source": [
    "states_src[\"cases\"] = states_src[\"cases\"].astype(int)"
   ]
  },
  {
   "cell_type": "code",
   "execution_count": 70,
   "id": "fe2e0dad-d0f4-4882-9996-eeac2e15ef9f",
   "metadata": {},
   "outputs": [],
   "source": [
    "states = states_src[\n",
    "    (states_src[\"location\"] != \"Total\") & (states_src[\"location\"] != \"Non-US Resident\")\n",
    "].copy()"
   ]
  },
  {
   "cell_type": "code",
   "execution_count": 71,
   "id": "f65534f8-bd3b-4627-8b3a-38c664e20451",
   "metadata": {},
   "outputs": [
    {
     "data": {
      "text/html": [
       "<div>\n",
       "<style scoped>\n",
       "    .dataframe tbody tr th:only-of-type {\n",
       "        vertical-align: middle;\n",
       "    }\n",
       "\n",
       "    .dataframe tbody tr th {\n",
       "        vertical-align: top;\n",
       "    }\n",
       "\n",
       "    .dataframe thead th {\n",
       "        text-align: right;\n",
       "    }\n",
       "</style>\n",
       "<table border=\"1\" class=\"dataframe\">\n",
       "  <thead>\n",
       "    <tr style=\"text-align: right;\">\n",
       "      <th></th>\n",
       "      <th>location</th>\n",
       "      <th>cases</th>\n",
       "      <th>asof</th>\n",
       "    </tr>\n",
       "  </thead>\n",
       "  <tbody>\n",
       "    <tr>\n",
       "      <th>0</th>\n",
       "      <td>Alabama</td>\n",
       "      <td>34</td>\n",
       "      <td>Data as of 17 Aug 2022 2:00 PM EDT</td>\n",
       "    </tr>\n",
       "    <tr>\n",
       "      <th>1</th>\n",
       "      <td>Alaska</td>\n",
       "      <td>2</td>\n",
       "      <td>Data as of 17 Aug 2022 2:00 PM EDT</td>\n",
       "    </tr>\n",
       "    <tr>\n",
       "      <th>2</th>\n",
       "      <td>Arizona</td>\n",
       "      <td>213</td>\n",
       "      <td>Data as of 17 Aug 2022 2:00 PM EDT</td>\n",
       "    </tr>\n",
       "    <tr>\n",
       "      <th>3</th>\n",
       "      <td>Arkansas</td>\n",
       "      <td>21</td>\n",
       "      <td>Data as of 17 Aug 2022 2:00 PM EDT</td>\n",
       "    </tr>\n",
       "    <tr>\n",
       "      <th>4</th>\n",
       "      <td>California</td>\n",
       "      <td>2356</td>\n",
       "      <td>Data as of 17 Aug 2022 2:00 PM EDT</td>\n",
       "    </tr>\n",
       "  </tbody>\n",
       "</table>\n",
       "</div>"
      ],
      "text/plain": [
       "     location  cases                                asof\n",
       "0     Alabama     34  Data as of 17 Aug 2022 2:00 PM EDT\n",
       "1      Alaska      2  Data as of 17 Aug 2022 2:00 PM EDT\n",
       "2     Arizona    213  Data as of 17 Aug 2022 2:00 PM EDT\n",
       "3    Arkansas     21  Data as of 17 Aug 2022 2:00 PM EDT\n",
       "4  California   2356  Data as of 17 Aug 2022 2:00 PM EDT"
      ]
     },
     "execution_count": 71,
     "metadata": {},
     "output_type": "execute_result"
    }
   ],
   "source": [
    "states.head()"
   ]
  },
  {
   "cell_type": "markdown",
   "id": "eb2c38a6-4184-490f-b52f-1fa7334bfd44",
   "metadata": {},
   "source": [
    "---"
   ]
  },
  {
   "cell_type": "markdown",
   "id": "db0f84f8-ae6b-4392-a357-c0541b4f34d2",
   "metadata": {},
   "source": [
    "#### Aggregate totals among all states to add to timeseries"
   ]
  },
  {
   "cell_type": "code",
   "execution_count": 72,
   "id": "7a7f8243-3cfe-4f42-bfad-5b2313593e6c",
   "metadata": {},
   "outputs": [],
   "source": [
    "latest_total = states[\"cases\"].sum()"
   ]
  },
  {
   "cell_type": "code",
   "execution_count": 73,
   "id": "d20285f6-ef0c-4ba0-ad85-63c288c999f5",
   "metadata": {},
   "outputs": [],
   "source": [
    "historical_total = cdc_timeseries[\n",
    "    cdc_timeseries[\"date\"] == cdc_timeseries[\"date\"].max()\n",
    "][\"cumulative_sum\"][0]"
   ]
  },
  {
   "cell_type": "code",
   "execution_count": 74,
   "id": "8c2ebf66-400d-41c7-81ce-2990d1ecf174",
   "metadata": {},
   "outputs": [
    {
     "data": {
      "text/plain": [
       "13057"
      ]
     },
     "execution_count": 74,
     "metadata": {},
     "output_type": "execute_result"
    }
   ],
   "source": [
    "cdc_timeseries[cdc_timeseries[\"date\"] == cdc_timeseries[\"date\"].max()][\n",
    "    \"cumulative_sum\"\n",
    "][0]"
   ]
  },
  {
   "cell_type": "code",
   "execution_count": 75,
   "id": "ad289633-ee50-4a36-9aa1-b1b214a7d3b8",
   "metadata": {},
   "outputs": [],
   "source": [
    "change = latest_total - historical_total"
   ]
  },
  {
   "cell_type": "code",
   "execution_count": 76,
   "id": "93c0aaf4-71ad-41fa-aed0-3f29113947de",
   "metadata": {},
   "outputs": [
    {
     "data": {
      "text/plain": [
       "457"
      ]
     },
     "execution_count": 76,
     "metadata": {},
     "output_type": "execute_result"
    }
   ],
   "source": [
    "change"
   ]
  },
  {
   "cell_type": "code",
   "execution_count": 77,
   "id": "ff487d26-6bea-4b6d-a65e-23aebadba0af",
   "metadata": {},
   "outputs": [],
   "source": [
    "updated_data = {\"date\": today, \"cases\": change, \"cumulative_sum\": latest_total}"
   ]
  },
  {
   "cell_type": "code",
   "execution_count": 78,
   "id": "c1d9b469-7dc3-4baf-b771-a5f1b7587845",
   "metadata": {},
   "outputs": [],
   "source": [
    "updated_data_df = pd.DataFrame(updated_data, index=[0])"
   ]
  },
  {
   "cell_type": "code",
   "execution_count": 82,
   "id": "66e6ff9b-d99c-4136-aa2c-ce172978138c",
   "metadata": {},
   "outputs": [
    {
     "data": {
      "text/html": [
       "<div>\n",
       "<style scoped>\n",
       "    .dataframe tbody tr th:only-of-type {\n",
       "        vertical-align: middle;\n",
       "    }\n",
       "\n",
       "    .dataframe tbody tr th {\n",
       "        vertical-align: top;\n",
       "    }\n",
       "\n",
       "    .dataframe thead th {\n",
       "        text-align: right;\n",
       "    }\n",
       "</style>\n",
       "<table border=\"1\" class=\"dataframe\">\n",
       "  <thead>\n",
       "    <tr style=\"text-align: right;\">\n",
       "      <th></th>\n",
       "      <th>date</th>\n",
       "      <th>cases</th>\n",
       "      <th>cumulative_sum</th>\n",
       "    </tr>\n",
       "  </thead>\n",
       "  <tbody>\n",
       "    <tr>\n",
       "      <th>0</th>\n",
       "      <td>2022-08-18</td>\n",
       "      <td>457</td>\n",
       "      <td>13514</td>\n",
       "    </tr>\n",
       "  </tbody>\n",
       "</table>\n",
       "</div>"
      ],
      "text/plain": [
       "         date  cases  cumulative_sum\n",
       "0  2022-08-18    457           13514"
      ]
     },
     "execution_count": 82,
     "metadata": {},
     "output_type": "execute_result"
    }
   ],
   "source": [
    "updated_data_df"
   ]
  },
  {
   "cell_type": "code",
   "execution_count": 83,
   "id": "d0e4ecde-8601-4eac-bb1f-2237317ecbc1",
   "metadata": {},
   "outputs": [],
   "source": [
    "updated_data_df[\"date\"] = pd.to_datetime(updated_data_df[\"date\"]).dt.strftime(\n",
    "    \"%Y-%m-%d\"\n",
    ")"
   ]
  },
  {
   "cell_type": "code",
   "execution_count": 93,
   "id": "d0273976-3131-46a0-bd71-08613b614a17",
   "metadata": {},
   "outputs": [],
   "source": [
    "df = (\n",
    "    pd.concat([cdc_timeseries, updated_data_df])\n",
    "    .drop_duplicates(subset=\"date\")\n",
    "    .sort_values(\"date\", ascending=False)\n",
    "    .copy()\n",
    ")"
   ]
  },
  {
   "cell_type": "code",
   "execution_count": 94,
   "id": "dcae2cce-ea5a-4b4c-8674-244a72d0e793",
   "metadata": {},
   "outputs": [
    {
     "data": {
      "text/html": [
       "<div>\n",
       "<style scoped>\n",
       "    .dataframe tbody tr th:only-of-type {\n",
       "        vertical-align: middle;\n",
       "    }\n",
       "\n",
       "    .dataframe tbody tr th {\n",
       "        vertical-align: top;\n",
       "    }\n",
       "\n",
       "    .dataframe thead th {\n",
       "        text-align: right;\n",
       "    }\n",
       "</style>\n",
       "<table border=\"1\" class=\"dataframe\">\n",
       "  <thead>\n",
       "    <tr style=\"text-align: right;\">\n",
       "      <th></th>\n",
       "      <th>date</th>\n",
       "      <th>cases</th>\n",
       "      <th>cumulative_sum</th>\n",
       "    </tr>\n",
       "  </thead>\n",
       "  <tbody>\n",
       "    <tr>\n",
       "      <th>0</th>\n",
       "      <td>2022-08-18</td>\n",
       "      <td>457</td>\n",
       "      <td>13514</td>\n",
       "    </tr>\n",
       "    <tr>\n",
       "      <th>0</th>\n",
       "      <td>2022-08-17</td>\n",
       "      <td>347</td>\n",
       "      <td>13057</td>\n",
       "    </tr>\n",
       "    <tr>\n",
       "      <th>1</th>\n",
       "      <td>2022-08-16</td>\n",
       "      <td>361</td>\n",
       "      <td>12710</td>\n",
       "    </tr>\n",
       "    <tr>\n",
       "      <th>2</th>\n",
       "      <td>2022-08-15</td>\n",
       "      <td>670</td>\n",
       "      <td>12349</td>\n",
       "    </tr>\n",
       "    <tr>\n",
       "      <th>3</th>\n",
       "      <td>2022-08-14</td>\n",
       "      <td>10</td>\n",
       "      <td>11679</td>\n",
       "    </tr>\n",
       "    <tr>\n",
       "      <th>...</th>\n",
       "      <td>...</td>\n",
       "      <td>...</td>\n",
       "      <td>...</td>\n",
       "    </tr>\n",
       "    <tr>\n",
       "      <th>90</th>\n",
       "      <td>2022-05-19</td>\n",
       "      <td>1</td>\n",
       "      <td>3</td>\n",
       "    </tr>\n",
       "    <tr>\n",
       "      <th>91</th>\n",
       "      <td>2022-05-18</td>\n",
       "      <td>0</td>\n",
       "      <td>2</td>\n",
       "    </tr>\n",
       "    <tr>\n",
       "      <th>92</th>\n",
       "      <td>2022-05-17</td>\n",
       "      <td>1</td>\n",
       "      <td>2</td>\n",
       "    </tr>\n",
       "    <tr>\n",
       "      <th>93</th>\n",
       "      <td>2022-05-16</td>\n",
       "      <td>0</td>\n",
       "      <td>1</td>\n",
       "    </tr>\n",
       "    <tr>\n",
       "      <th>94</th>\n",
       "      <td>2022-05-15</td>\n",
       "      <td>1</td>\n",
       "      <td>1</td>\n",
       "    </tr>\n",
       "  </tbody>\n",
       "</table>\n",
       "<p>96 rows × 3 columns</p>\n",
       "</div>"
      ],
      "text/plain": [
       "          date  cases  cumulative_sum\n",
       "0   2022-08-18    457           13514\n",
       "0   2022-08-17    347           13057\n",
       "1   2022-08-16    361           12710\n",
       "2   2022-08-15    670           12349\n",
       "3   2022-08-14     10           11679\n",
       "..         ...    ...             ...\n",
       "90  2022-05-19      1               3\n",
       "91  2022-05-18      0               2\n",
       "92  2022-05-17      1               2\n",
       "93  2022-05-16      0               1\n",
       "94  2022-05-15      1               1\n",
       "\n",
       "[96 rows x 3 columns]"
      ]
     },
     "execution_count": 94,
     "metadata": {},
     "output_type": "execute_result"
    }
   ],
   "source": [
    "df"
   ]
  },
  {
   "cell_type": "markdown",
   "id": "cf66d7e8-2c51-48e1-b2c1-b9445576671b",
   "metadata": {},
   "source": [
    "---"
   ]
  },
  {
   "cell_type": "markdown",
   "id": "a9439f20-f28e-4850-b347-e1623159dbb9",
   "metadata": {},
   "source": [
    "## Exports"
   ]
  },
  {
   "cell_type": "code",
   "execution_count": 95,
   "id": "5261b2d2-34bd-458e-ac5f-6e8c6c93d41c",
   "metadata": {},
   "outputs": [],
   "source": [
    "df.to_csv(f\"data/processed/monkeypox_cases_timeseries_cdc_historical.csv\", index=False)\n",
    "df.to_csv(\n",
    "    f\"data/processed/monkeypox_cases_timeseries_cdc_historical_{today}.csv\", index=False\n",
    ")\n",
    "df.to_csv(f\"data/processed/monkeypox_cases_derived_timeseries_latest.csv\", index=False)\n",
    "df.to_json(\n",
    "    f\"data/processed/monkeypox_cases_derived_timeseries_latest.json\",\n",
    "    orient=\"records\",\n",
    "    indent=4,\n",
    ")"
   ]
  }
 ],
 "metadata": {
  "kernelspec": {
   "display_name": "Python 3 (ipykernel)",
   "language": "python",
   "name": "python3"
  },
  "language_info": {
   "codemirror_mode": {
    "name": "ipython",
    "version": 3
   },
   "file_extension": ".py",
   "mimetype": "text/x-python",
   "name": "python",
   "nbconvert_exporter": "python",
   "pygments_lexer": "ipython3",
   "version": "3.9.9"
  }
 },
 "nbformat": 4,
 "nbformat_minor": 5
}
