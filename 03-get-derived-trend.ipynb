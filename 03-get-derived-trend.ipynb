{
 "cells": [
  {
   "cell_type": "markdown",
   "id": "d9c11339-a67f-4fb6-b67d-aba42870d87b",
   "metadata": {},
   "source": [
    "# CDC: Monkeypox derived timeseries"
   ]
  },
  {
   "cell_type": "code",
   "execution_count": 1,
   "id": "c7d699b6-4c5a-47b6-b21a-1528e60d5114",
   "metadata": {},
   "outputs": [],
   "source": [
    "import pandas as pd\n",
    "import us\n",
    "import urllib.request, json\n",
    "import datetime as dt"
   ]
  },
  {
   "cell_type": "code",
   "execution_count": 2,
   "id": "c467e6bc-3038-4987-bf5c-cd975ce19857",
   "metadata": {},
   "outputs": [],
   "source": [
    "today = pd.Timestamp.now(tz='America/Los_Angeles').strftime(\"%Y-%m-%d\")\n",
    "time = pd.Timestamp.now(tz='America/Los_Angeles').strftime(\"%-I:%M %p\")"
   ]
  },
  {
   "cell_type": "markdown",
   "id": "55de2756-12bd-44d6-803c-959e42e25a14",
   "metadata": {},
   "source": [
    "---"
   ]
  },
  {
   "cell_type": "markdown",
   "id": "2fc67190-f2c7-43b5-b40e-f96a4b7a2f3c",
   "metadata": {},
   "source": [
    "## Get historical case timeseries"
   ]
  },
  {
   "cell_type": "markdown",
   "id": "60ed8dbd-90ea-49bc-8b43-e33547e4ed5e",
   "metadata": {},
   "source": [
    "#### May 17-Aug. 3"
   ]
  },
  {
   "cell_type": "code",
   "execution_count": 3,
   "id": "5903d7d2-6974-4af2-837c-f9cb490df539",
   "metadata": {},
   "outputs": [],
   "source": [
    "historical_src = pd.read_csv('data/processed/monkeypox_cases_timeseries_cdc_historical.csv', parse_dates=['date']).sort_values('date', ascending=False).reset_index(drop=True)"
   ]
  },
  {
   "cell_type": "code",
   "execution_count": 4,
   "id": "87abf1ee-f9da-4b16-b095-52e606734eb0",
   "metadata": {},
   "outputs": [],
   "source": [
    "historical_src['date'] = historical_src['date'].astype(str)"
   ]
  },
  {
   "cell_type": "code",
   "execution_count": 5,
   "id": "18b4ce29-854c-4500-956d-917c3244031b",
   "metadata": {},
   "outputs": [],
   "source": [
    "historical_src = historical_src[historical_src['date'] < today].reset_index(drop=True)"
   ]
  },
  {
   "cell_type": "markdown",
   "id": "369dbf85-bd05-430c-b1da-c90c365ff36c",
   "metadata": {},
   "source": [
    "---"
   ]
  },
  {
   "cell_type": "markdown",
   "id": "0038e04d-06a1-4928-b6c7-0cafdcfdc00f",
   "metadata": {},
   "source": [
    "## CDC Monkeypox"
   ]
  },
  {
   "cell_type": "markdown",
   "id": "96760db8-9021-4384-8e6e-6f44c87b03e5",
   "metadata": {},
   "source": [
    "#### Latest totals, aggregated by state"
   ]
  },
  {
   "cell_type": "code",
   "execution_count": 6,
   "id": "8edd28b6-cbb7-4530-9223-a4af5f9673ae",
   "metadata": {},
   "outputs": [],
   "source": [
    "states_url = 'https://www.cdc.gov/poxvirus/monkeypox/modules/data-viz/mpx-maps.json'"
   ]
  },
  {
   "cell_type": "code",
   "execution_count": 7,
   "id": "281d6494-8700-48c3-880c-6743ef8497d2",
   "metadata": {},
   "outputs": [],
   "source": [
    "with urllib.request.urlopen(states_url) as url:\n",
    "    data = json.loads(url.read().decode())\n",
    "    states_src = pd.DataFrame(data['data'])"
   ]
  },
  {
   "cell_type": "code",
   "execution_count": 8,
   "id": "bf2bf45c-ebd6-4bbb-a732-3ac80a075346",
   "metadata": {},
   "outputs": [],
   "source": [
    "states_src.columns = states_src.columns.str.lower().str.replace(' ', '_', regex=False)"
   ]
  },
  {
   "cell_type": "code",
   "execution_count": 9,
   "id": "e3af4a91-43cc-47e2-b9c8-19a3599d06f4",
   "metadata": {},
   "outputs": [],
   "source": [
    "states_src.drop(['case_range'], axis=1, inplace=True)"
   ]
  },
  {
   "cell_type": "code",
   "execution_count": 10,
   "id": "e7067d87-9d90-4a31-8aff-7900572e57dc",
   "metadata": {},
   "outputs": [],
   "source": [
    "states_src['cases'] = states_src['cases'].astype(int)"
   ]
  },
  {
   "cell_type": "markdown",
   "id": "eb2c38a6-4184-490f-b52f-1fa7334bfd44",
   "metadata": {},
   "source": [
    "---"
   ]
  },
  {
   "cell_type": "markdown",
   "id": "db0f84f8-ae6b-4392-a357-c0541b4f34d2",
   "metadata": {},
   "source": [
    "#### Aggregate totals among all states to add to timeseries"
   ]
  },
  {
   "cell_type": "code",
   "execution_count": 11,
   "id": "3c0ef59f-e638-4ed1-b6a6-5b3e38d5464b",
   "metadata": {},
   "outputs": [],
   "source": [
    "latest_total = states_src['cases'].sum()"
   ]
  },
  {
   "cell_type": "code",
   "execution_count": 12,
   "id": "1051b3e9-ac81-4292-a189-0cea10156b81",
   "metadata": {},
   "outputs": [],
   "source": [
    "historical_total = historical_src[historical_src['date'] == historical_src['date'].max()]['cumulative_sum'][0]"
   ]
  },
  {
   "cell_type": "code",
   "execution_count": 13,
   "id": "9a87d90f-656c-48a5-b15e-071a90174126",
   "metadata": {},
   "outputs": [],
   "source": [
    "change = latest_total - historical_total"
   ]
  },
  {
   "cell_type": "code",
   "execution_count": 14,
   "id": "f2d7345b-3141-4776-84a7-b5fac9ab65c2",
   "metadata": {},
   "outputs": [],
   "source": [
    "updated_data = {'date': today, 'cases': change, 'cumulative_sum': latest_total}"
   ]
  },
  {
   "cell_type": "code",
   "execution_count": 15,
   "id": "1c2cb5e1-cfe1-42f8-94d3-dce3f71af6f0",
   "metadata": {},
   "outputs": [],
   "source": [
    "updated_data_df = pd.DataFrame(updated_data, index=[0])"
   ]
  },
  {
   "cell_type": "code",
   "execution_count": 16,
   "id": "4078450e-1e05-4b82-bb42-d02cbe9084ad",
   "metadata": {},
   "outputs": [],
   "source": [
    "df = pd.concat([updated_data_df, historical_src]).copy()"
   ]
  },
  {
   "cell_type": "markdown",
   "id": "cf66d7e8-2c51-48e1-b2c1-b9445576671b",
   "metadata": {},
   "source": [
    "---"
   ]
  },
  {
   "cell_type": "markdown",
   "id": "a9439f20-f28e-4850-b347-e1623159dbb9",
   "metadata": {},
   "source": [
    "## Exports"
   ]
  },
  {
   "cell_type": "code",
   "execution_count": 18,
   "id": "5261b2d2-34bd-458e-ac5f-6e8c6c93d41c",
   "metadata": {},
   "outputs": [],
   "source": [
    "df.to_csv(f'data/processed/monkeypox_cases_timeseries_cdc_historical.csv', index=False)\n",
    "df.to_csv(f'data/processed/monkeypox_cases_derived_timeseries_latest.csv', index=False)\n",
    "df.to_json(f'data/processed/monkeypox_cases_derived_timeseries_latest.json', orient='records', indent=4)"
   ]
  }
 ],
 "metadata": {
  "kernelspec": {
   "display_name": "Python 3 (ipykernel)",
   "language": "python",
   "name": "python3"
  },
  "language_info": {
   "codemirror_mode": {
    "name": "ipython",
    "version": 3
   },
   "file_extension": ".py",
   "mimetype": "text/x-python",
   "name": "python",
   "nbconvert_exporter": "python",
   "pygments_lexer": "ipython3",
   "version": "3.8.9"
  }
 },
 "nbformat": 4,
 "nbformat_minor": 5
}
